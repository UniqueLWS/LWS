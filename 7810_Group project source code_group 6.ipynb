{
 "cells": [
  {
   "cell_type": "markdown",
   "metadata": {},
   "source": [
    "# COMP 7810 Group project-- Group 6\n",
    "### LI Wenshu (20440510), XU Shiqian (20442882), LIU Yangyang (20455356)"
   ]
  },
  {
   "cell_type": "markdown",
   "metadata": {},
   "source": [
    "## Part one: dataset and goals"
   ]
  },
  {
   "cell_type": "markdown",
   "metadata": {},
   "source": [
    "### Our group project is focus on some sales data from Tmall flagship store in year 2014-2017\n",
    "### dataset is collected from：https://www.datafocus.ai/"
   ]
  },
  {
   "cell_type": "markdown",
   "metadata": {},
   "source": [
    "### dataset details:\n",
    "#### Source: this dataset is about sales and data source is from www.datafocus.ai and it's a real world dataset.\n",
    "#### Field: belongs to the sales.\n",
    "#### Attributes: Among all attributes we must choose the representative ones and do analysis on them."
   ]
  },
  {
   "cell_type": "markdown",
   "metadata": {},
   "source": [
    "### Goals and Tasks:\n",
    "### Goals:\n",
    "### To find attributes are effecting the sales or not and how much degree.\n",
    "Categories of factors that can affect sales price:（all 13 attributes)\n",
    "first in timeline(订单日期） analyze the whole sales situation. 订单日期 also can be analyzed in 3 aspects.\n",
    "1.region:区域，目的省份，目的城市，快递公司\n",
    "2.customer：顾客姓名,收款方式,区域\n",
    "3.goods：产品名称，产品类别，产品子类别\n",
    "销售数量，销售金额\n",
    "### Conduct statistical analysis on the dataset and build models, then based on results do evulations and summary.\n",
    "    \n",
    "### Tasks:\n",
    "#### 1.Import dataset\n",
    "#### 2.Analyze on dataset\n",
    "#### 3.Data preprocessing\n",
    "#### 4.Exploratory Data Analysis\n",
    "#### 5.Feature engineering\n",
    "#### 6.Experiments and results\n",
    "#### 7.Summary"
   ]
  },
  {
   "cell_type": "markdown",
   "metadata": {},
   "source": [
    "## Part two: import data and python packages"
   ]
  },
  {
   "cell_type": "code",
   "execution_count": 1,
   "metadata": {},
   "outputs": [],
   "source": [
    "# import related library to futher study\n",
    "import numpy as np\n",
    "import pandas as pd\n",
    "#import matplotlib to do some visual display\n",
    "import matplotlib.pyplot as plt"
   ]
  },
  {
   "cell_type": "code",
   "execution_count": 2,
   "metadata": {},
   "outputs": [],
   "source": [
    "import scipy.stats as stats\n",
    "import seaborn as sns"
   ]
  },
  {
   "cell_type": "markdown",
   "metadata": {},
   "source": [
    "#### we use the encoding='gbk' to load the original dataset into dataframe"
   ]
  },
  {
   "cell_type": "code",
   "execution_count": 3,
   "metadata": {},
   "outputs": [
    {
     "name": "stdout",
     "output_type": "stream",
     "text": [
      "dataset preview:\n"
     ]
    },
    {
     "data": {
      "text/html": [
       "<div>\n",
       "<style scoped>\n",
       "    .dataframe tbody tr th:only-of-type {\n",
       "        vertical-align: middle;\n",
       "    }\n",
       "\n",
       "    .dataframe tbody tr th {\n",
       "        vertical-align: top;\n",
       "    }\n",
       "\n",
       "    .dataframe thead th {\n",
       "        text-align: right;\n",
       "    }\n",
       "</style>\n",
       "<table border=\"1\" class=\"dataframe\">\n",
       "  <thead>\n",
       "    <tr style=\"text-align: right;\">\n",
       "      <th></th>\n",
       "      <th>订单日期</th>\n",
       "      <th>产品名称</th>\n",
       "      <th>顾客姓名</th>\n",
       "      <th>订单单号</th>\n",
       "      <th>区域</th>\n",
       "      <th>目的省份</th>\n",
       "      <th>目的城市</th>\n",
       "      <th>快递公司</th>\n",
       "      <th>产品类别</th>\n",
       "      <th>产品子类别</th>\n",
       "      <th>销售数量</th>\n",
       "      <th>销售金额</th>\n",
       "      <th>收款方式</th>\n",
       "    </tr>\n",
       "  </thead>\n",
       "  <tbody>\n",
       "    <tr>\n",
       "      <th>0</th>\n",
       "      <td>2017/3/2</td>\n",
       "      <td>肉松青豆120g</td>\n",
       "      <td>Lena Cacioppo</td>\n",
       "      <td>10021247876</td>\n",
       "      <td>华东</td>\n",
       "      <td>安徽省</td>\n",
       "      <td>蚌埠市</td>\n",
       "      <td>圆通</td>\n",
       "      <td>坚果炒货</td>\n",
       "      <td>特惠炒货</td>\n",
       "      <td>29</td>\n",
       "      <td>188.094</td>\n",
       "      <td>应收账款</td>\n",
       "    </tr>\n",
       "    <tr>\n",
       "      <th>1</th>\n",
       "      <td>2017/5/19</td>\n",
       "      <td>小米锅巴（麻辣味）90g</td>\n",
       "      <td>Alejandro Ballentine</td>\n",
       "      <td>10021247909</td>\n",
       "      <td>华南</td>\n",
       "      <td>广东省</td>\n",
       "      <td>佛山市</td>\n",
       "      <td>圆通</td>\n",
       "      <td>坚果炒货</td>\n",
       "      <td>特惠炒货</td>\n",
       "      <td>46</td>\n",
       "      <td>227.700</td>\n",
       "      <td>应收票据</td>\n",
       "    </tr>\n",
       "    <tr>\n",
       "      <th>2</th>\n",
       "      <td>2017/7/16</td>\n",
       "      <td>原生碧根果218g</td>\n",
       "      <td>Fred McMath</td>\n",
       "      <td>10021247974</td>\n",
       "      <td>华南</td>\n",
       "      <td>河南省</td>\n",
       "      <td>三门峡市</td>\n",
       "      <td>圆通</td>\n",
       "      <td>坚果炒货</td>\n",
       "      <td>果果仁仁</td>\n",
       "      <td>35</td>\n",
       "      <td>668.640</td>\n",
       "      <td>应收票据</td>\n",
       "    </tr>\n",
       "    <tr>\n",
       "      <th>3</th>\n",
       "      <td>2017/7/24</td>\n",
       "      <td>野山小核桃仁160g</td>\n",
       "      <td>Evan Minnotte</td>\n",
       "      <td>10021248082</td>\n",
       "      <td>华北</td>\n",
       "      <td>山西省</td>\n",
       "      <td>晋城市</td>\n",
       "      <td>圆通</td>\n",
       "      <td>坚果炒货</td>\n",
       "      <td>果果仁仁</td>\n",
       "      <td>48</td>\n",
       "      <td>2596.608</td>\n",
       "      <td>应收账款</td>\n",
       "    </tr>\n",
       "    <tr>\n",
       "      <th>4</th>\n",
       "      <td>2016/2/12</td>\n",
       "      <td>精装纸皮核桃380g</td>\n",
       "      <td>Olvera Toch</td>\n",
       "      <td>10021248111</td>\n",
       "      <td>华北</td>\n",
       "      <td>北京市</td>\n",
       "      <td>北京市</td>\n",
       "      <td>中通</td>\n",
       "      <td>坚果炒货</td>\n",
       "      <td>磕壳坚果</td>\n",
       "      <td>1</td>\n",
       "      <td>38.703</td>\n",
       "      <td>应收账款</td>\n",
       "    </tr>\n",
       "    <tr>\n",
       "      <th>...</th>\n",
       "      <td>...</td>\n",
       "      <td>...</td>\n",
       "      <td>...</td>\n",
       "      <td>...</td>\n",
       "      <td>...</td>\n",
       "      <td>...</td>\n",
       "      <td>...</td>\n",
       "      <td>...</td>\n",
       "      <td>...</td>\n",
       "      <td>...</td>\n",
       "      <td>...</td>\n",
       "      <td>...</td>\n",
       "      <td>...</td>\n",
       "    </tr>\n",
       "    <tr>\n",
       "      <th>8689</th>\n",
       "      <td>2014/4/24</td>\n",
       "      <td>小米锅巴孜然味90g</td>\n",
       "      <td>Alejandro Ballentine</td>\n",
       "      <td>10022252218</td>\n",
       "      <td>华北</td>\n",
       "      <td>内蒙古</td>\n",
       "      <td>乌兰察布市</td>\n",
       "      <td>顺丰</td>\n",
       "      <td>坚果炒货</td>\n",
       "      <td>特惠炒货</td>\n",
       "      <td>48</td>\n",
       "      <td>232.800</td>\n",
       "      <td>应收账款</td>\n",
       "    </tr>\n",
       "    <tr>\n",
       "      <th>8690</th>\n",
       "      <td>2014/1/18</td>\n",
       "      <td>甘草西瓜子218g</td>\n",
       "      <td>Neil Knudson</td>\n",
       "      <td>10022252219</td>\n",
       "      <td>华东</td>\n",
       "      <td>安徽省</td>\n",
       "      <td>池州市</td>\n",
       "      <td>顺丰</td>\n",
       "      <td>坚果炒货</td>\n",
       "      <td>磕壳坚果</td>\n",
       "      <td>45</td>\n",
       "      <td>574.695</td>\n",
       "      <td>应收账款</td>\n",
       "    </tr>\n",
       "    <tr>\n",
       "      <th>8691</th>\n",
       "      <td>2015/5/26</td>\n",
       "      <td>良品山核桃椒盐味238g</td>\n",
       "      <td>Alejandro Grove</td>\n",
       "      <td>10022252220</td>\n",
       "      <td>华北</td>\n",
       "      <td>河北省</td>\n",
       "      <td>廊坊市</td>\n",
       "      <td>顺丰</td>\n",
       "      <td>坚果炒货</td>\n",
       "      <td>磕壳坚果</td>\n",
       "      <td>42</td>\n",
       "      <td>1118.502</td>\n",
       "      <td>应收账款</td>\n",
       "    </tr>\n",
       "    <tr>\n",
       "      <th>8692</th>\n",
       "      <td>2015/11/12</td>\n",
       "      <td>小米锅巴孜然味90g</td>\n",
       "      <td>Deborah Brumfield</td>\n",
       "      <td>10022252221</td>\n",
       "      <td>华北</td>\n",
       "      <td>北京市</td>\n",
       "      <td>北京市</td>\n",
       "      <td>顺丰</td>\n",
       "      <td>坚果炒货</td>\n",
       "      <td>特惠炒货</td>\n",
       "      <td>46</td>\n",
       "      <td>211.600</td>\n",
       "      <td>应收账款</td>\n",
       "    </tr>\n",
       "    <tr>\n",
       "      <th>8693</th>\n",
       "      <td>2014/6/13</td>\n",
       "      <td>盐焗腰果180g</td>\n",
       "      <td>Anemone Ratner</td>\n",
       "      <td>10022252222</td>\n",
       "      <td>华东</td>\n",
       "      <td>浙江省</td>\n",
       "      <td>台州市</td>\n",
       "      <td>顺丰</td>\n",
       "      <td>坚果炒货</td>\n",
       "      <td>果果仁仁</td>\n",
       "      <td>20</td>\n",
       "      <td>382.080</td>\n",
       "      <td>应收账款</td>\n",
       "    </tr>\n",
       "  </tbody>\n",
       "</table>\n",
       "<p>8694 rows × 13 columns</p>\n",
       "</div>"
      ],
      "text/plain": [
       "            订单日期          产品名称                  顾客姓名         订单单号  区域 目的省份  \\\n",
       "0       2017/3/2      肉松青豆120g         Lena Cacioppo  10021247876  华东  安徽省   \n",
       "1      2017/5/19  小米锅巴（麻辣味）90g  Alejandro Ballentine  10021247909  华南  广东省   \n",
       "2      2017/7/16     原生碧根果218g           Fred McMath  10021247974  华南  河南省   \n",
       "3      2017/7/24    野山小核桃仁160g         Evan Minnotte  10021248082  华北  山西省   \n",
       "4      2016/2/12    精装纸皮核桃380g           Olvera Toch  10021248111  华北  北京市   \n",
       "...          ...           ...                   ...          ...  ..  ...   \n",
       "8689   2014/4/24    小米锅巴孜然味90g  Alejandro Ballentine  10022252218  华北  内蒙古   \n",
       "8690   2014/1/18     甘草西瓜子218g          Neil Knudson  10022252219  华东  安徽省   \n",
       "8691   2015/5/26  良品山核桃椒盐味238g       Alejandro Grove  10022252220  华北  河北省   \n",
       "8692  2015/11/12    小米锅巴孜然味90g     Deborah Brumfield  10022252221  华北  北京市   \n",
       "8693   2014/6/13      盐焗腰果180g        Anemone Ratner  10022252222  华东  浙江省   \n",
       "\n",
       "       目的城市 快递公司  产品类别 产品子类别  销售数量      销售金额  收款方式  \n",
       "0       蚌埠市   圆通  坚果炒货  特惠炒货    29   188.094  应收账款  \n",
       "1       佛山市   圆通  坚果炒货  特惠炒货    46   227.700  应收票据  \n",
       "2      三门峡市   圆通  坚果炒货  果果仁仁    35   668.640  应收票据  \n",
       "3       晋城市   圆通  坚果炒货  果果仁仁    48  2596.608  应收账款  \n",
       "4       北京市   中通  坚果炒货  磕壳坚果     1    38.703  应收账款  \n",
       "...     ...  ...   ...   ...   ...       ...   ...  \n",
       "8689  乌兰察布市   顺丰  坚果炒货  特惠炒货    48   232.800  应收账款  \n",
       "8690    池州市   顺丰  坚果炒货  磕壳坚果    45   574.695  应收账款  \n",
       "8691    廊坊市   顺丰  坚果炒货  磕壳坚果    42  1118.502  应收账款  \n",
       "8692    北京市   顺丰  坚果炒货  特惠炒货    46   211.600  应收账款  \n",
       "8693    台州市   顺丰  坚果炒货  果果仁仁    20   382.080  应收账款  \n",
       "\n",
       "[8694 rows x 13 columns]"
      ]
     },
     "execution_count": 3,
     "metadata": {},
     "output_type": "execute_result"
    }
   ],
   "source": [
    "#Read the data file in csv format into Dataframe, load the dataset\n",
    "data = pd.read_csv('天猫旗舰店销售数据 .csv', encoding='gbk')\n",
    "#preview the data\n",
    "print(\"dataset preview:\")\n",
    "data"
   ]
  },
  {
   "cell_type": "markdown",
   "metadata": {},
   "source": [
    "## Part three: data check, value assessment, data preprocessing"
   ]
  },
  {
   "cell_type": "code",
   "execution_count": 4,
   "metadata": {},
   "outputs": [
    {
     "data": {
      "text/plain": [
       "(8694, 13)"
      ]
     },
     "execution_count": 4,
     "metadata": {},
     "output_type": "execute_result"
    }
   ],
   "source": [
    "#first look at the data shape(size)\n",
    "data.shape"
   ]
  },
  {
   "cell_type": "code",
   "execution_count": 5,
   "metadata": {},
   "outputs": [
    {
     "data": {
      "text/plain": [
       "订单日期      object\n",
       "产品名称      object\n",
       "顾客姓名      object\n",
       "订单单号       int64\n",
       "区域        object\n",
       "目的省份      object\n",
       "目的城市      object\n",
       "快递公司      object\n",
       "产品类别      object\n",
       "产品子类别     object\n",
       "销售数量       int64\n",
       "销售金额     float64\n",
       "收款方式      object\n",
       "dtype: object"
      ]
     },
     "execution_count": 5,
     "metadata": {},
     "output_type": "execute_result"
    }
   ],
   "source": [
    "#look at the data type of each column\n",
    "data.dtypes"
   ]
  },
  {
   "cell_type": "markdown",
   "metadata": {},
   "source": [
    "#### we can easily see our 13 attributes are mostly object and only sales attribute are numerical ones."
   ]
  },
  {
   "cell_type": "code",
   "execution_count": 6,
   "metadata": {},
   "outputs": [
    {
     "data": {
      "text/plain": [
       "False"
      ]
     },
     "execution_count": 6,
     "metadata": {},
     "output_type": "execute_result"
    }
   ],
   "source": [
    "# check if any missing value in the dataframe\n",
    "data.isnull().values.any()"
   ]
  },
  {
   "cell_type": "code",
   "execution_count": 7,
   "metadata": {},
   "outputs": [
    {
     "name": "stdout",
     "output_type": "stream",
     "text": [
      "<class 'pandas.core.frame.DataFrame'>\n",
      "RangeIndex: 8694 entries, 0 to 8693\n",
      "Data columns (total 13 columns):\n",
      " #   Column  Non-Null Count  Dtype  \n",
      "---  ------  --------------  -----  \n",
      " 0   订单日期    8694 non-null   object \n",
      " 1   产品名称    8694 non-null   object \n",
      " 2   顾客姓名    8694 non-null   object \n",
      " 3   订单单号    8694 non-null   int64  \n",
      " 4   区域      8694 non-null   object \n",
      " 5   目的省份    8694 non-null   object \n",
      " 6   目的城市    8694 non-null   object \n",
      " 7   快递公司    8694 non-null   object \n",
      " 8   产品类别    8694 non-null   object \n",
      " 9   产品子类别   8694 non-null   object \n",
      " 10  销售数量    8694 non-null   int64  \n",
      " 11  销售金额    8694 non-null   float64\n",
      " 12  收款方式    8694 non-null   object \n",
      "dtypes: float64(1), int64(2), object(10)\n",
      "memory usage: 883.1+ KB\n"
     ]
    }
   ],
   "source": [
    "data.info()"
   ]
  },
  {
   "cell_type": "markdown",
   "metadata": {},
   "source": [
    "#### so this dataset does not have any missing value so we do not need to handle."
   ]
  },
  {
   "cell_type": "code",
   "execution_count": 8,
   "metadata": {},
   "outputs": [
    {
     "data": {
      "text/html": [
       "<div>\n",
       "<style scoped>\n",
       "    .dataframe tbody tr th:only-of-type {\n",
       "        vertical-align: middle;\n",
       "    }\n",
       "\n",
       "    .dataframe tbody tr th {\n",
       "        vertical-align: top;\n",
       "    }\n",
       "\n",
       "    .dataframe thead th {\n",
       "        text-align: right;\n",
       "    }\n",
       "</style>\n",
       "<table border=\"1\" class=\"dataframe\">\n",
       "  <thead>\n",
       "    <tr style=\"text-align: right;\">\n",
       "      <th></th>\n",
       "      <th>订单单号</th>\n",
       "      <th>销售数量</th>\n",
       "      <th>销售金额</th>\n",
       "    </tr>\n",
       "  </thead>\n",
       "  <tbody>\n",
       "    <tr>\n",
       "      <th>count</th>\n",
       "      <td>8.694000e+03</td>\n",
       "      <td>8694.000000</td>\n",
       "      <td>8694.000000</td>\n",
       "    </tr>\n",
       "    <tr>\n",
       "      <th>mean</th>\n",
       "      <td>1.002184e+10</td>\n",
       "      <td>27.687716</td>\n",
       "      <td>462.819765</td>\n",
       "    </tr>\n",
       "    <tr>\n",
       "      <th>std</th>\n",
       "      <td>4.241441e+05</td>\n",
       "      <td>14.775256</td>\n",
       "      <td>489.481543</td>\n",
       "    </tr>\n",
       "    <tr>\n",
       "      <th>min</th>\n",
       "      <td>1.002125e+10</td>\n",
       "      <td>1.000000</td>\n",
       "      <td>2.325000</td>\n",
       "    </tr>\n",
       "    <tr>\n",
       "      <th>25%</th>\n",
       "      <td>1.002141e+10</td>\n",
       "      <td>15.000000</td>\n",
       "      <td>139.207500</td>\n",
       "    </tr>\n",
       "    <tr>\n",
       "      <th>50%</th>\n",
       "      <td>1.002202e+10</td>\n",
       "      <td>28.000000</td>\n",
       "      <td>282.900000</td>\n",
       "    </tr>\n",
       "    <tr>\n",
       "      <th>75%</th>\n",
       "      <td>1.002225e+10</td>\n",
       "      <td>40.000000</td>\n",
       "      <td>592.515000</td>\n",
       "    </tr>\n",
       "    <tr>\n",
       "      <th>max</th>\n",
       "      <td>1.002225e+10</td>\n",
       "      <td>55.000000</td>\n",
       "      <td>3079.944000</td>\n",
       "    </tr>\n",
       "  </tbody>\n",
       "</table>\n",
       "</div>"
      ],
      "text/plain": [
       "               订单单号         销售数量         销售金额\n",
       "count  8.694000e+03  8694.000000  8694.000000\n",
       "mean   1.002184e+10    27.687716   462.819765\n",
       "std    4.241441e+05    14.775256   489.481543\n",
       "min    1.002125e+10     1.000000     2.325000\n",
       "25%    1.002141e+10    15.000000   139.207500\n",
       "50%    1.002202e+10    28.000000   282.900000\n",
       "75%    1.002225e+10    40.000000   592.515000\n",
       "max    1.002225e+10    55.000000  3079.944000"
      ]
     },
     "execution_count": 8,
     "metadata": {},
     "output_type": "execute_result"
    }
   ],
   "source": [
    "#Basic descriptive information of the data and check outliers.\n",
    "data.describe()"
   ]
  },
  {
   "cell_type": "markdown",
   "metadata": {},
   "source": [
    "#### Basic statistical description information, see basically no outliers."
   ]
  },
  {
   "cell_type": "code",
   "execution_count": 9,
   "metadata": {},
   "outputs": [
    {
     "data": {
      "text/plain": [
       "True"
      ]
     },
     "execution_count": 9,
     "metadata": {},
     "output_type": "execute_result"
    }
   ],
   "source": [
    "# check if exist duplicated value\n",
    "data.duplicated().sum()> 0"
   ]
  },
  {
   "cell_type": "markdown",
   "metadata": {},
   "source": [
    "#### This dataset have no missing, duplicated and outliers so we do not need to do any processing on it."
   ]
  },
  {
   "cell_type": "markdown",
   "metadata": {},
   "source": [
    "## Part Four: Exploratory Data Analysis"
   ]
  },
  {
   "cell_type": "code",
   "execution_count": 10,
   "metadata": {},
   "outputs": [],
   "source": [
    "#Data format conversion\n",
    "#Since \"订单日期\" will be used in further analysis later, but we see \"订单日期\" now is \"object\" format so we have \n",
    "#to do data cleanning on it and transform its format."
   ]
  },
  {
   "cell_type": "code",
   "execution_count": 11,
   "metadata": {},
   "outputs": [],
   "source": [
    "#for \"订单日期\" attribute so format conversion\n",
    "data.loc[:,'订单日期']=pd.to_datetime(data.loc[:,'订单日期'],format='%Y/%m/%d',errors='ignore')"
   ]
  },
  {
   "cell_type": "code",
   "execution_count": 12,
   "metadata": {},
   "outputs": [],
   "source": [
    "# Sort, sort data in ascending order by “订单日期\"\n",
    "#Sort data_new by \"订单日期\"\n",
    "data_new=data.sort_values(by='订单日期',ascending=True,na_position='first')"
   ]
  },
  {
   "cell_type": "code",
   "execution_count": 13,
   "metadata": {},
   "outputs": [],
   "source": [
    "# Intercept the year and month fields\n",
    "from datetime import datetime\n",
    "dt=data_new['订单日期'].astype(str)\n",
    "dt=dt.apply(lambda x:datetime.strptime(x,'%Y-%m-%d'))\n",
    "data_new['month']=dt.map(lambda x:x.month)\n",
    "data_new['year']=dt.map(lambda x:x.year)\n",
    "data_new['day']=dt.map(lambda x:x.day)"
   ]
  },
  {
   "cell_type": "code",
   "execution_count": 14,
   "metadata": {},
   "outputs": [],
   "source": [
    "# add \"销售单价“ attribute\n",
    "data_new['销售单价']=data_new['销售金额']/data_new['销售数量']"
   ]
  },
  {
   "cell_type": "code",
   "execution_count": 15,
   "metadata": {},
   "outputs": [
    {
     "data": {
      "text/html": [
       "<div>\n",
       "<style scoped>\n",
       "    .dataframe tbody tr th:only-of-type {\n",
       "        vertical-align: middle;\n",
       "    }\n",
       "\n",
       "    .dataframe tbody tr th {\n",
       "        vertical-align: top;\n",
       "    }\n",
       "\n",
       "    .dataframe thead th {\n",
       "        text-align: right;\n",
       "    }\n",
       "</style>\n",
       "<table border=\"1\" class=\"dataframe\">\n",
       "  <thead>\n",
       "    <tr style=\"text-align: right;\">\n",
       "      <th></th>\n",
       "      <th>订单日期</th>\n",
       "      <th>销售数量</th>\n",
       "      <th>销售金额</th>\n",
       "      <th>销售单价</th>\n",
       "      <th>year</th>\n",
       "      <th>month</th>\n",
       "      <th>day</th>\n",
       "    </tr>\n",
       "  </thead>\n",
       "  <tbody>\n",
       "    <tr>\n",
       "      <th>4920</th>\n",
       "      <td>2014-01-01</td>\n",
       "      <td>37</td>\n",
       "      <td>164.983</td>\n",
       "      <td>4.459</td>\n",
       "      <td>2014</td>\n",
       "      <td>1</td>\n",
       "      <td>1</td>\n",
       "    </tr>\n",
       "    <tr>\n",
       "      <th>6022</th>\n",
       "      <td>2014-01-01</td>\n",
       "      <td>23</td>\n",
       "      <td>110.400</td>\n",
       "      <td>4.800</td>\n",
       "      <td>2014</td>\n",
       "      <td>1</td>\n",
       "      <td>1</td>\n",
       "    </tr>\n",
       "    <tr>\n",
       "      <th>7407</th>\n",
       "      <td>2014-01-02</td>\n",
       "      <td>9</td>\n",
       "      <td>152.100</td>\n",
       "      <td>16.900</td>\n",
       "      <td>2014</td>\n",
       "      <td>1</td>\n",
       "      <td>2</td>\n",
       "    </tr>\n",
       "    <tr>\n",
       "      <th>7964</th>\n",
       "      <td>2014-01-02</td>\n",
       "      <td>6</td>\n",
       "      <td>222.642</td>\n",
       "      <td>37.107</td>\n",
       "      <td>2014</td>\n",
       "      <td>1</td>\n",
       "      <td>2</td>\n",
       "    </tr>\n",
       "    <tr>\n",
       "      <th>7325</th>\n",
       "      <td>2014-01-02</td>\n",
       "      <td>13</td>\n",
       "      <td>96.525</td>\n",
       "      <td>7.425</td>\n",
       "      <td>2014</td>\n",
       "      <td>1</td>\n",
       "      <td>2</td>\n",
       "    </tr>\n",
       "  </tbody>\n",
       "</table>\n",
       "</div>"
      ],
      "text/plain": [
       "           订单日期  销售数量     销售金额    销售单价  year  month  day\n",
       "4920 2014-01-01    37  164.983   4.459  2014      1    1\n",
       "6022 2014-01-01    23  110.400   4.800  2014      1    1\n",
       "7407 2014-01-02     9  152.100  16.900  2014      1    2\n",
       "7964 2014-01-02     6  222.642  37.107  2014      1    2\n",
       "7325 2014-01-02    13   96.525   7.425  2014      1    2"
      ]
     },
     "execution_count": 15,
     "metadata": {},
     "output_type": "execute_result"
    }
   ],
   "source": [
    "# now we can build a sales_data datset with some certain attributes\n",
    "sales_data=data_new[['订单日期','销售数量','销售金额','销售单价','year','month','day']]\n",
    "sales_data.head()"
   ]
  },
  {
   "cell_type": "code",
   "execution_count": 16,
   "metadata": {},
   "outputs": [
    {
     "data": {
      "text/plain": [
       "<AxesSubplot:title={'center':'The distribution of price'}, ylabel='Frequency'>"
      ]
     },
     "execution_count": 16,
     "metadata": {},
     "output_type": "execute_result"
    },
    {
     "data": {
      "image/png": "[encoded data removed]",
      "text/plain": [
       "<Figure size 432x288 with 1 Axes>"
      ]
     },
     "metadata": {
      "needs_background": "light"
     },
     "output_type": "display_data"
    }
   ],
   "source": [
    "# now gain some graphical insight\n",
    "# Visualizing the distribution of the variables\n",
    "# plot some variable  \n",
    "data_new['销售单价'].value_counts().plot(kind='hist', \n",
    "                              title='The distribution of price',\n",
    "                              figsize=(6, 4))"
   ]
  },
  {
   "cell_type": "code",
   "execution_count": 17,
   "metadata": {},
   "outputs": [
    {
     "name": "stderr",
     "output_type": "stream",
     "text": [
      "/Users/liwenshu/opt/anaconda3/lib/python3.8/site-packages/matplotlib/backends/backend_agg.py:238: RuntimeWarning: Glyph 38144 missing from current font.\n",
      "  font.set_text(s, 0.0, flags=flags)\n",
      "/Users/liwenshu/opt/anaconda3/lib/python3.8/site-packages/matplotlib/backends/backend_agg.py:238: RuntimeWarning: Glyph 21806 missing from current font.\n",
      "  font.set_text(s, 0.0, flags=flags)\n",
      "/Users/liwenshu/opt/anaconda3/lib/python3.8/site-packages/matplotlib/backends/backend_agg.py:238: RuntimeWarning: Glyph 37329 missing from current font.\n",
      "  font.set_text(s, 0.0, flags=flags)\n",
      "/Users/liwenshu/opt/anaconda3/lib/python3.8/site-packages/matplotlib/backends/backend_agg.py:238: RuntimeWarning: Glyph 39069 missing from current font.\n",
      "  font.set_text(s, 0.0, flags=flags)\n"
     ]
    },
    {
     "data": {
      "text/plain": [
       "<seaborn.axisgrid.FacetGrid at 0x7f9f810f3dc0>"
      ]
     },
     "execution_count": 17,
     "metadata": {},
     "output_type": "execute_result"
    },
    {
     "name": "stderr",
     "output_type": "stream",
     "text": [
      "/Users/liwenshu/opt/anaconda3/lib/python3.8/site-packages/matplotlib/backends/backend_agg.py:201: RuntimeWarning: Glyph 38144 missing from current font.\n",
      "  font.set_text(s, 0, flags=flags)\n",
      "/Users/liwenshu/opt/anaconda3/lib/python3.8/site-packages/matplotlib/backends/backend_agg.py:201: RuntimeWarning: Glyph 21806 missing from current font.\n",
      "  font.set_text(s, 0, flags=flags)\n",
      "/Users/liwenshu/opt/anaconda3/lib/python3.8/site-packages/matplotlib/backends/backend_agg.py:201: RuntimeWarning: Glyph 37329 missing from current font.\n",
      "  font.set_text(s, 0, flags=flags)\n",
      "/Users/liwenshu/opt/anaconda3/lib/python3.8/site-packages/matplotlib/backends/backend_agg.py:201: RuntimeWarning: Glyph 39069 missing from current font.\n",
      "  font.set_text(s, 0, flags=flags)\n"
     ]
    },
    {
     "data": {
      "image/png": "[encoded data removed]",
      "text/plain": [
       "<Figure size 360x360 with 1 Axes>"
      ]
     },
     "metadata": {
      "needs_background": "light"
     },
     "output_type": "display_data"
    }
   ],
   "source": [
    "#the distrbution of sales\n",
    "sns.displot(data_new['销售金额'], color=\"b\",bins=10, kde=True)"
   ]
  },
  {
   "cell_type": "code",
   "execution_count": 18,
   "metadata": {},
   "outputs": [
    {
     "data": {
      "text/plain": [
       "KstestResult(statistic=0.9997666842128863, pvalue=0.0)"
      ]
     },
     "execution_count": 18,
     "metadata": {},
     "output_type": "execute_result"
    }
   ],
   "source": [
    "stats.kstest(data_new['销售金额'], 'norm')"
   ]
  },
  {
   "cell_type": "code",
   "execution_count": 19,
   "metadata": {},
   "outputs": [],
   "source": [
    "# since our dataset attribute's valua are Chinese and we need to do something to successfully let matplotlib work\n",
    "from matplotlib.font_manager import FontManager\n",
    "fm = FontManager()\n",
    "mat_fonts = set(f.name for f in fm.ttflist)"
   ]
  },
  {
   "cell_type": "code",
   "execution_count": 20,
   "metadata": {},
   "outputs": [],
   "source": [
    "import matplotlib.pyplot as plt\n",
    "plt.rcParams['font.sans-serif'] = ['Arial Unicode MS']"
   ]
  },
  {
   "cell_type": "code",
   "execution_count": 21,
   "metadata": {},
   "outputs": [
    {
     "data": {
      "image/png": "[encoded data removed]",
      "text/plain": [
       "<Figure size 432x288 with 1 Axes>"
      ]
     },
     "metadata": {},
     "output_type": "display_data"
    }
   ],
   "source": [
    "# since 产品类别 are all 坚果炒货\n",
    "data_new['产品子类别'].value_counts().plot(kind='pie')\n",
    "plt.show()"
   ]
  },
  {
   "cell_type": "code",
   "execution_count": 22,
   "metadata": {},
   "outputs": [
    {
     "data": {
      "text/plain": [
       "array([[<AxesSubplot:title={'center':'(2014, 东北)'}>,\n",
       "        <AxesSubplot:title={'center':'(2014, 华东)'}>,\n",
       "        <AxesSubplot:title={'center':'(2014, 华北)'}>,\n",
       "        <AxesSubplot:title={'center':'(2014, 华南)'}>,\n",
       "        <AxesSubplot:title={'center':'(2014, 西北)'}>],\n",
       "       [<AxesSubplot:title={'center':'(2014, 西南)'}>,\n",
       "        <AxesSubplot:title={'center':'(2015, 东北)'}>,\n",
       "        <AxesSubplot:title={'center':'(2015, 华东)'}>,\n",
       "        <AxesSubplot:title={'center':'(2015, 华北)'}>,\n",
       "        <AxesSubplot:title={'center':'(2015, 华南)'}>],\n",
       "       [<AxesSubplot:title={'center':'(2015, 西北)'}>,\n",
       "        <AxesSubplot:title={'center':'(2015, 西南)'}>,\n",
       "        <AxesSubplot:title={'center':'(2016, 东北)'}>,\n",
       "        <AxesSubplot:title={'center':'(2016, 华东)'}>,\n",
       "        <AxesSubplot:title={'center':'(2016, 华北)'}>],\n",
       "       [<AxesSubplot:title={'center':'(2016, 华南)'}>,\n",
       "        <AxesSubplot:title={'center':'(2016, 西北)'}>,\n",
       "        <AxesSubplot:title={'center':'(2016, 西南)'}>,\n",
       "        <AxesSubplot:title={'center':'(2017, 东北)'}>,\n",
       "        <AxesSubplot:title={'center':'(2017, 华东)'}>],\n",
       "       [<AxesSubplot:title={'center':'(2017, 华北)'}>,\n",
       "        <AxesSubplot:title={'center':'(2017, 华南)'}>,\n",
       "        <AxesSubplot:title={'center':'(2017, 西北)'}>,\n",
       "        <AxesSubplot:title={'center':'(2017, 西南)'}>, <AxesSubplot:>]],\n",
       "      dtype=object)"
      ]
     },
     "execution_count": 22,
     "metadata": {},
     "output_type": "execute_result"
    },
    {
     "data": {
      "image/png": "[encoded data removed]",
      "text/plain": [
       "<Figure size 432x288 with 25 Axes>"
      ]
     },
     "metadata": {
      "needs_background": "light"
     },
     "output_type": "display_data"
    }
   ],
   "source": [
    "# now for time, we gain some insights\n",
    "# Plot the 销售单价 distribution of different groups year and 区域)\n",
    "data_new.hist(column='销售单价', by=['year','区域'], sharex=True, sharey=True, bins=10)"
   ]
  },
  {
   "cell_type": "code",
   "execution_count": 23,
   "metadata": {},
   "outputs": [
    {
     "data": {
      "image/png": "[encoded data removed]",
      "text/plain": [
       "<Figure size 1440x360 with 1 Axes>"
      ]
     },
     "metadata": {
      "needs_background": "light"
     },
     "output_type": "display_data"
    }
   ],
   "source": [
    "data_new_average_sales_year = data_new.groupby(by=['订单日期'], as_index=False)['销售金额'].sum()\n",
    "data_new_average_sales = data_new_average_sales_year.sort_values('销售金额', ascending=False)\n",
    "\n",
    "plt.figure(figsize=(20,5))\n",
    "plt.plot(data_new_average_sales_year.订单日期, data_new_average_sales_year.销售金额,color = 'lightblue')\n",
    "plt.show()"
   ]
  },
  {
   "cell_type": "markdown",
   "metadata": {},
   "source": [
    "#### after some insights about certain attributes now we do data analysis on \n",
    "#### three dimensions: customer,region,goods"
   ]
  },
  {
   "cell_type": "markdown",
   "metadata": {},
   "source": [
    "#### 1.whole sales situations"
   ]
  },
  {
   "cell_type": "code",
   "execution_count": 24,
   "metadata": {},
   "outputs": [],
   "source": [
    "# 1.1 analyze this 4 year 销售金额，销售数量，销售单价"
   ]
  },
  {
   "cell_type": "code",
   "execution_count": 25,
   "metadata": {},
   "outputs": [
    {
     "data": {
      "text/plain": [
       "<AxesSubplot:xlabel='year'>"
      ]
     },
     "execution_count": 25,
     "metadata": {},
     "output_type": "execute_result"
    },
    {
     "data": {
      "image/png": "[encoded data removed]",
      "text/plain": [
       "<Figure size 432x288 with 1 Axes>"
      ]
     },
     "metadata": {
      "needs_background": "light"
     },
     "output_type": "display_data"
    }
   ],
   "source": [
    "data_sale=data_new.groupby('year').sum()[['销售金额','销售数量']]\n",
    "data_sale\n",
    "\n",
    "#可视化展现\n",
    "data_sale.plot(kind='bar',colormap = 'RdYlGn_r',alpha=0.5)"
   ]
  },
  {
   "cell_type": "code",
   "execution_count": 26,
   "metadata": {},
   "outputs": [],
   "source": [
    "#Through the above calculation results and the chart display, we can find that the annual performance \n",
    "# of the supermarket from 2014 to 2017 shows an unstable trend, and the sales, sales volume are all floating. \n",
    "# The sales volume has above 800,000 from 2014 to 2017, indicating Operations are gradually stabilizing. \n",
    "# However, there is still a certain gap in sales compared to large supermarkets so they can continue to work hard."
   ]
  },
  {
   "cell_type": "code",
   "execution_count": 27,
   "metadata": {},
   "outputs": [
    {
     "data": {
      "text/html": [
       "<div>\n",
       "<style scoped>\n",
       "    .dataframe tbody tr th:only-of-type {\n",
       "        vertical-align: middle;\n",
       "    }\n",
       "\n",
       "    .dataframe tbody tr th {\n",
       "        vertical-align: top;\n",
       "    }\n",
       "\n",
       "    .dataframe thead th {\n",
       "        text-align: right;\n",
       "    }\n",
       "</style>\n",
       "<table border=\"1\" class=\"dataframe\">\n",
       "  <thead>\n",
       "    <tr style=\"text-align: right;\">\n",
       "      <th></th>\n",
       "      <th>销售金额</th>\n",
       "      <th>销售数量</th>\n",
       "    </tr>\n",
       "    <tr>\n",
       "      <th>year</th>\n",
       "      <th></th>\n",
       "      <th></th>\n",
       "    </tr>\n",
       "  </thead>\n",
       "  <tbody>\n",
       "    <tr>\n",
       "      <th>2014</th>\n",
       "      <td>NaN</td>\n",
       "      <td>NaN</td>\n",
       "    </tr>\n",
       "    <tr>\n",
       "      <th>2015</th>\n",
       "      <td>-0.009445</td>\n",
       "      <td>-0.047702</td>\n",
       "    </tr>\n",
       "    <tr>\n",
       "      <th>2016</th>\n",
       "      <td>-0.172273</td>\n",
       "      <td>-0.131714</td>\n",
       "    </tr>\n",
       "    <tr>\n",
       "      <th>2017</th>\n",
       "      <td>0.039592</td>\n",
       "      <td>-0.011925</td>\n",
       "    </tr>\n",
       "  </tbody>\n",
       "</table>\n",
       "</div>"
      ],
      "text/plain": [
       "          销售金额      销售数量\n",
       "year                    \n",
       "2014       NaN       NaN\n",
       "2015 -0.009445 -0.047702\n",
       "2016 -0.172273 -0.131714\n",
       "2017  0.039592 -0.011925"
      ]
     },
     "execution_count": 27,
     "metadata": {},
     "output_type": "execute_result"
    }
   ],
   "source": [
    "# caculate Year-on-year growth rate\n",
    "rate=data_sale.pct_change()\n",
    "rate"
   ]
  },
  {
   "cell_type": "code",
   "execution_count": 28,
   "metadata": {},
   "outputs": [],
   "source": [
    "# from the above result, we easily see that sales amount and number are all decreasing.\n",
    "# maybe the nut lover decrease or users prefer other platforms to buy nuts.\n",
    "# so In addition, combined with annual sales, sales and other indicators, combined with the\n",
    "# company's overall strategic planning, it is possible to predict or formulate the next year's total sales\n",
    "#performance indicators."
   ]
  },
  {
   "cell_type": "code",
   "execution_count": 29,
   "metadata": {},
   "outputs": [],
   "source": [
    "#### 1.2 every year,month sales situations"
   ]
  },
  {
   "cell_type": "code",
   "execution_count": 30,
   "metadata": {},
   "outputs": [
    {
     "data": {
      "text/plain": [
       "<AxesSubplot:title={'center':'销售数量'}, xlabel='month'>"
      ]
     },
     "execution_count": 30,
     "metadata": {},
     "output_type": "execute_result"
    },
    {
     "data": {
      "image/png": "[encoded data removed]",
      "text/plain": [
       "<Figure size 1440x288 with 2 Axes>"
      ]
     },
     "metadata": {
      "needs_background": "light"
     },
     "output_type": "display_data"
    }
   ],
   "source": [
    "# every month 销售额/销量\n",
    "data_sale_month=pd.pivot_table(data_new,index='month',columns='year',values=['销售数量','销售金额',],aggfunc='sum')\n",
    "data_sale_month\n",
    "\n",
    "#每月销售额/销量堆叠图\n",
    "fig,axes = plt.subplots(1,2,figsize = (20,4))\n",
    "data_sale_month['销售金额'].plot.area(colormap = 'Accent_r',stacked=False,ax=axes[0],title='销售金额')\n",
    "data_sale_month['销售数量'].plot.area(colormap = 'Accent_r',stacked=False,ax=axes[1],title='销售数量')"
   ]
  },
  {
   "cell_type": "code",
   "execution_count": 31,
   "metadata": {},
   "outputs": [],
   "source": [
    "#From the above table and chart, it can be roughly seen that the supermarket's sales seasonality is still different.\n",
    "#The end of the year and the beginning of the year are the peak season for nuts.\n",
    "\n",
    "#For peak season months, strategies such as operation promotion should be maintained, \n",
    "# and investment can be increased to increase overall sales.\n",
    "# For the off-season months, new product development can be combined with product characteristics, \n",
    "# and some promotional activities can be held to attract customers."
   ]
  },
  {
   "cell_type": "code",
   "execution_count": 32,
   "metadata": {},
   "outputs": [
    {
     "data": {
      "text/html": [
       "<style  type=\"text/css\" >\n",
       "#T_fa5325d8_912b_11eb_9886_acde48001122row0_col0,#T_fa5325d8_912b_11eb_9886_acde48001122row1_col0,#T_fa5325d8_912b_11eb_9886_acde48001122row2_col0,#T_fa5325d8_912b_11eb_9886_acde48001122row3_col0,#T_fa5325d8_912b_11eb_9886_acde48001122row4_col0,#T_fa5325d8_912b_11eb_9886_acde48001122row5_col0,#T_fa5325d8_912b_11eb_9886_acde48001122row6_col0,#T_fa5325d8_912b_11eb_9886_acde48001122row7_col0,#T_fa5325d8_912b_11eb_9886_acde48001122row8_col0,#T_fa5325d8_912b_11eb_9886_acde48001122row9_col0,#T_fa5325d8_912b_11eb_9886_acde48001122row10_col0,#T_fa5325d8_912b_11eb_9886_acde48001122row11_col0,#T_fa5325d8_912b_11eb_9886_acde48001122row11_col1{\n",
       "            background-color:  #000000;\n",
       "            color:  #f1f1f1;\n",
       "        }#T_fa5325d8_912b_11eb_9886_acde48001122row0_col1,#T_fa5325d8_912b_11eb_9886_acde48001122row1_col2,#T_fa5325d8_912b_11eb_9886_acde48001122row2_col1,#T_fa5325d8_912b_11eb_9886_acde48001122row3_col3,#T_fa5325d8_912b_11eb_9886_acde48001122row4_col2,#T_fa5325d8_912b_11eb_9886_acde48001122row5_col2,#T_fa5325d8_912b_11eb_9886_acde48001122row6_col3,#T_fa5325d8_912b_11eb_9886_acde48001122row7_col1,#T_fa5325d8_912b_11eb_9886_acde48001122row8_col2,#T_fa5325d8_912b_11eb_9886_acde48001122row9_col2,#T_fa5325d8_912b_11eb_9886_acde48001122row10_col1,#T_fa5325d8_912b_11eb_9886_acde48001122row11_col3{\n",
       "            background-color:  #f7fcf5;\n",
       "            color:  #000000;\n",
       "        }#T_fa5325d8_912b_11eb_9886_acde48001122row0_col2,#T_fa5325d8_912b_11eb_9886_acde48001122row1_col1,#T_fa5325d8_912b_11eb_9886_acde48001122row2_col3,#T_fa5325d8_912b_11eb_9886_acde48001122row3_col1,#T_fa5325d8_912b_11eb_9886_acde48001122row4_col3,#T_fa5325d8_912b_11eb_9886_acde48001122row5_col1,#T_fa5325d8_912b_11eb_9886_acde48001122row6_col2,#T_fa5325d8_912b_11eb_9886_acde48001122row7_col3,#T_fa5325d8_912b_11eb_9886_acde48001122row8_col1,#T_fa5325d8_912b_11eb_9886_acde48001122row9_col1,#T_fa5325d8_912b_11eb_9886_acde48001122row11_col2{\n",
       "            background-color:  #73c476;\n",
       "            color:  #000000;\n",
       "        }#T_fa5325d8_912b_11eb_9886_acde48001122row0_col3{\n",
       "            background-color:  #edf8e9;\n",
       "            color:  #000000;\n",
       "        }#T_fa5325d8_912b_11eb_9886_acde48001122row1_col3{\n",
       "            background-color:  #7ac77b;\n",
       "            color:  #000000;\n",
       "        }#T_fa5325d8_912b_11eb_9886_acde48001122row2_col2{\n",
       "            background-color:  #e8f6e3;\n",
       "            color:  #000000;\n",
       "        }#T_fa5325d8_912b_11eb_9886_acde48001122row3_col2{\n",
       "            background-color:  #f2faf0;\n",
       "            color:  #000000;\n",
       "        }#T_fa5325d8_912b_11eb_9886_acde48001122row4_col1{\n",
       "            background-color:  #a9dca3;\n",
       "            color:  #000000;\n",
       "        }#T_fa5325d8_912b_11eb_9886_acde48001122row5_col3{\n",
       "            background-color:  #a3da9d;\n",
       "            color:  #000000;\n",
       "        }#T_fa5325d8_912b_11eb_9886_acde48001122row6_col1{\n",
       "            background-color:  #ecf8e8;\n",
       "            color:  #000000;\n",
       "        }#T_fa5325d8_912b_11eb_9886_acde48001122row7_col2{\n",
       "            background-color:  #e3f4de;\n",
       "            color:  #000000;\n",
       "        }#T_fa5325d8_912b_11eb_9886_acde48001122row8_col3{\n",
       "            background-color:  #a2d99c;\n",
       "            color:  #000000;\n",
       "        }#T_fa5325d8_912b_11eb_9886_acde48001122row9_col3{\n",
       "            background-color:  #78c679;\n",
       "            color:  #000000;\n",
       "        }#T_fa5325d8_912b_11eb_9886_acde48001122row10_col2{\n",
       "            background-color:  #75c477;\n",
       "            color:  #000000;\n",
       "        }#T_fa5325d8_912b_11eb_9886_acde48001122row10_col3{\n",
       "            background-color:  #edf8ea;\n",
       "            color:  #000000;\n",
       "        }</style><table id=\"T_fa5325d8_912b_11eb_9886_acde48001122\" ><thead>    <tr>        <th class=\"index_name level0\" >year</th>        <th class=\"col_heading level0 col0\" >2014</th>        <th class=\"col_heading level0 col1\" >2015</th>        <th class=\"col_heading level0 col2\" >2016</th>        <th class=\"col_heading level0 col3\" >2017</th>    </tr>    <tr>        <th class=\"index_name level0\" >month</th>        <th class=\"blank\" ></th>        <th class=\"blank\" ></th>        <th class=\"blank\" ></th>        <th class=\"blank\" ></th>    </tr></thead><tbody>\n",
       "                <tr>\n",
       "                        <th id=\"T_fa5325d8_912b_11eb_9886_acde48001122level0_row0\" class=\"row_heading level0 row0\" >1</th>\n",
       "                        <td id=\"T_fa5325d8_912b_11eb_9886_acde48001122row0_col0\" class=\"data row0 col0\" >nan</td>\n",
       "                        <td id=\"T_fa5325d8_912b_11eb_9886_acde48001122row0_col1\" class=\"data row0 col1\" >-0.523504</td>\n",
       "                        <td id=\"T_fa5325d8_912b_11eb_9886_acde48001122row0_col2\" class=\"data row0 col2\" >0.615572</td>\n",
       "                        <td id=\"T_fa5325d8_912b_11eb_9886_acde48001122row0_col3\" class=\"data row0 col3\" >-0.357441</td>\n",
       "            </tr>\n",
       "            <tr>\n",
       "                        <th id=\"T_fa5325d8_912b_11eb_9886_acde48001122level0_row1\" class=\"row_heading level0 row1\" >2</th>\n",
       "                        <td id=\"T_fa5325d8_912b_11eb_9886_acde48001122row1_col0\" class=\"data row1 col0\" >nan</td>\n",
       "                        <td id=\"T_fa5325d8_912b_11eb_9886_acde48001122row1_col1\" class=\"data row1 col1\" >0.333380</td>\n",
       "                        <td id=\"T_fa5325d8_912b_11eb_9886_acde48001122row1_col2\" class=\"data row1 col2\" >-0.340761</td>\n",
       "                        <td id=\"T_fa5325d8_912b_11eb_9886_acde48001122row1_col3\" class=\"data row1 col3\" >0.308517</td>\n",
       "            </tr>\n",
       "            <tr>\n",
       "                        <th id=\"T_fa5325d8_912b_11eb_9886_acde48001122level0_row2\" class=\"row_heading level0 row2\" >3</th>\n",
       "                        <td id=\"T_fa5325d8_912b_11eb_9886_acde48001122row2_col0\" class=\"data row2 col0\" >nan</td>\n",
       "                        <td id=\"T_fa5325d8_912b_11eb_9886_acde48001122row2_col1\" class=\"data row2 col1\" >-0.183486</td>\n",
       "                        <td id=\"T_fa5325d8_912b_11eb_9886_acde48001122row2_col2\" class=\"data row2 col2\" >-0.145452</td>\n",
       "                        <td id=\"T_fa5325d8_912b_11eb_9886_acde48001122row2_col3\" class=\"data row2 col3\" >-0.007522</td>\n",
       "            </tr>\n",
       "            <tr>\n",
       "                        <th id=\"T_fa5325d8_912b_11eb_9886_acde48001122level0_row3\" class=\"row_heading level0 row3\" >4</th>\n",
       "                        <td id=\"T_fa5325d8_912b_11eb_9886_acde48001122row3_col0\" class=\"data row3 col0\" >nan</td>\n",
       "                        <td id=\"T_fa5325d8_912b_11eb_9886_acde48001122row3_col1\" class=\"data row3 col1\" >0.010385</td>\n",
       "                        <td id=\"T_fa5325d8_912b_11eb_9886_acde48001122row3_col2\" class=\"data row3 col2\" >-0.084685</td>\n",
       "                        <td id=\"T_fa5325d8_912b_11eb_9886_acde48001122row3_col3\" class=\"data row3 col3\" >-0.091534</td>\n",
       "            </tr>\n",
       "            <tr>\n",
       "                        <th id=\"T_fa5325d8_912b_11eb_9886_acde48001122level0_row4\" class=\"row_heading level0 row4\" >5</th>\n",
       "                        <td id=\"T_fa5325d8_912b_11eb_9886_acde48001122row4_col0\" class=\"data row4 col0\" >nan</td>\n",
       "                        <td id=\"T_fa5325d8_912b_11eb_9886_acde48001122row4_col1\" class=\"data row4 col1\" >0.122263</td>\n",
       "                        <td id=\"T_fa5325d8_912b_11eb_9886_acde48001122row4_col2\" class=\"data row4 col2\" >-0.247225</td>\n",
       "                        <td id=\"T_fa5325d8_912b_11eb_9886_acde48001122row4_col3\" class=\"data row4 col3\" >0.283240</td>\n",
       "            </tr>\n",
       "            <tr>\n",
       "                        <th id=\"T_fa5325d8_912b_11eb_9886_acde48001122level0_row5\" class=\"row_heading level0 row5\" >6</th>\n",
       "                        <td id=\"T_fa5325d8_912b_11eb_9886_acde48001122row5_col0\" class=\"data row5 col0\" >nan</td>\n",
       "                        <td id=\"T_fa5325d8_912b_11eb_9886_acde48001122row5_col1\" class=\"data row5 col1\" >0.273061</td>\n",
       "                        <td id=\"T_fa5325d8_912b_11eb_9886_acde48001122row5_col2\" class=\"data row5 col2\" >-0.231917</td>\n",
       "                        <td id=\"T_fa5325d8_912b_11eb_9886_acde48001122row5_col3\" class=\"data row5 col3\" >0.141584</td>\n",
       "            </tr>\n",
       "            <tr>\n",
       "                        <th id=\"T_fa5325d8_912b_11eb_9886_acde48001122level0_row6\" class=\"row_heading level0 row6\" >7</th>\n",
       "                        <td id=\"T_fa5325d8_912b_11eb_9886_acde48001122row6_col0\" class=\"data row6 col0\" >nan</td>\n",
       "                        <td id=\"T_fa5325d8_912b_11eb_9886_acde48001122row6_col1\" class=\"data row6 col1\" >-0.164309</td>\n",
       "                        <td id=\"T_fa5325d8_912b_11eb_9886_acde48001122row6_col2\" class=\"data row6 col2\" >0.119666</td>\n",
       "                        <td id=\"T_fa5325d8_912b_11eb_9886_acde48001122row6_col3\" class=\"data row6 col3\" >-0.214007</td>\n",
       "            </tr>\n",
       "            <tr>\n",
       "                        <th id=\"T_fa5325d8_912b_11eb_9886_acde48001122level0_row7\" class=\"row_heading level0 row7\" >8</th>\n",
       "                        <td id=\"T_fa5325d8_912b_11eb_9886_acde48001122row7_col0\" class=\"data row7 col0\" >nan</td>\n",
       "                        <td id=\"T_fa5325d8_912b_11eb_9886_acde48001122row7_col1\" class=\"data row7 col1\" >-0.162433</td>\n",
       "                        <td id=\"T_fa5325d8_912b_11eb_9886_acde48001122row7_col2\" class=\"data row7 col2\" >-0.132059</td>\n",
       "                        <td id=\"T_fa5325d8_912b_11eb_9886_acde48001122row7_col3\" class=\"data row7 col3\" >-0.050939</td>\n",
       "            </tr>\n",
       "            <tr>\n",
       "                        <th id=\"T_fa5325d8_912b_11eb_9886_acde48001122level0_row8\" class=\"row_heading level0 row8\" >9</th>\n",
       "                        <td id=\"T_fa5325d8_912b_11eb_9886_acde48001122row8_col0\" class=\"data row8 col0\" >nan</td>\n",
       "                        <td id=\"T_fa5325d8_912b_11eb_9886_acde48001122row8_col1\" class=\"data row8 col1\" >0.285662</td>\n",
       "                        <td id=\"T_fa5325d8_912b_11eb_9886_acde48001122row8_col2\" class=\"data row8 col2\" >-0.322765</td>\n",
       "                        <td id=\"T_fa5325d8_912b_11eb_9886_acde48001122row8_col3\" class=\"data row8 col3\" >0.130522</td>\n",
       "            </tr>\n",
       "            <tr>\n",
       "                        <th id=\"T_fa5325d8_912b_11eb_9886_acde48001122level0_row9\" class=\"row_heading level0 row9\" >10</th>\n",
       "                        <td id=\"T_fa5325d8_912b_11eb_9886_acde48001122row9_col0\" class=\"data row9 col0\" >nan</td>\n",
       "                        <td id=\"T_fa5325d8_912b_11eb_9886_acde48001122row9_col1\" class=\"data row9 col1\" >0.115530</td>\n",
       "                        <td id=\"T_fa5325d8_912b_11eb_9886_acde48001122row9_col2\" class=\"data row9 col2\" >-0.248142</td>\n",
       "                        <td id=\"T_fa5325d8_912b_11eb_9886_acde48001122row9_col3\" class=\"data row9 col3\" >0.108293</td>\n",
       "            </tr>\n",
       "            <tr>\n",
       "                        <th id=\"T_fa5325d8_912b_11eb_9886_acde48001122level0_row10\" class=\"row_heading level0 row10\" >11</th>\n",
       "                        <td id=\"T_fa5325d8_912b_11eb_9886_acde48001122row10_col0\" class=\"data row10 col0\" >nan</td>\n",
       "                        <td id=\"T_fa5325d8_912b_11eb_9886_acde48001122row10_col1\" class=\"data row10 col1\" >-0.472367</td>\n",
       "                        <td id=\"T_fa5325d8_912b_11eb_9886_acde48001122row10_col2\" class=\"data row10 col2\" >0.361630</td>\n",
       "                        <td id=\"T_fa5325d8_912b_11eb_9886_acde48001122row10_col3\" class=\"data row10 col3\" >-0.359347</td>\n",
       "            </tr>\n",
       "            <tr>\n",
       "                        <th id=\"T_fa5325d8_912b_11eb_9886_acde48001122level0_row11\" class=\"row_heading level0 row11\" >12</th>\n",
       "                        <td id=\"T_fa5325d8_912b_11eb_9886_acde48001122row11_col0\" class=\"data row11 col0\" >nan</td>\n",
       "                        <td id=\"T_fa5325d8_912b_11eb_9886_acde48001122row11_col1\" class=\"data row11 col1\" >nan</td>\n",
       "                        <td id=\"T_fa5325d8_912b_11eb_9886_acde48001122row11_col2\" class=\"data row11 col2\" >0.000000</td>\n",
       "                        <td id=\"T_fa5325d8_912b_11eb_9886_acde48001122row11_col3\" class=\"data row11 col3\" >-0.187785</td>\n",
       "            </tr>\n",
       "    </tbody></table>"
      ],
      "text/plain": [
       "<pandas.io.formats.style.Styler at 0x7f9f81ce4c10>"
      ]
     },
     "execution_count": 32,
     "metadata": {},
     "output_type": "execute_result"
    }
   ],
   "source": [
    "# caculate growth rate\n",
    "data_sale_month['销售金额'].pct_change(axis='columns').style.background_gradient(cmap='Greens',axis =1,low=0,high=1)"
   ]
  },
  {
   "cell_type": "markdown",
   "metadata": {},
   "source": [
    "see from the table, the rate sometimes decrease and sometimes increase so\n",
    "the nut sales condition really unstable."
   ]
  },
  {
   "cell_type": "markdown",
   "metadata": {},
   "source": [
    "#### 2.region sales situations"
   ]
  },
  {
   "cell_type": "code",
   "execution_count": 33,
   "metadata": {},
   "outputs": [],
   "source": [
    "# in this analysis, 区域，目的省份，目的城市 ，快递公司 four attributes were chosen."
   ]
  },
  {
   "cell_type": "code",
   "execution_count": 34,
   "metadata": {},
   "outputs": [
    {
     "data": {
      "text/plain": [
       "华南    3210\n",
       "华北    1716\n",
       "华东    1584\n",
       "东北    1208\n",
       "西北     680\n",
       "西南     296\n",
       "Name: 区域, dtype: int64"
      ]
     },
     "execution_count": 34,
     "metadata": {},
     "output_type": "execute_result"
    }
   ],
   "source": [
    "# 2.1 only foucus on \"区域“\n",
    "data_new[\"区域\"].value_counts()\n",
    "# we can see the whole China region has been splited into 6 regions."
   ]
  },
  {
   "cell_type": "code",
   "execution_count": 35,
   "metadata": {},
   "outputs": [
    {
     "data": {
      "text/plain": [
       "<AxesSubplot:title={'center':'Mean 销售金额 in each 区域'}, ylabel='区域'>"
      ]
     },
     "execution_count": 35,
     "metadata": {},
     "output_type": "execute_result"
    },
    {
     "data": {
      "image/png": "[encoded data removed]",
      "text/plain": [
       "<Figure size 432x288 with 1 Axes>"
      ]
     },
     "metadata": {
      "needs_background": "light"
     },
     "output_type": "display_data"
    }
   ],
   "source": [
    "# plot the average of 销售金额 of each region\n",
    "\n",
    "data_new.groupby('区域')['销售金额'].mean().plot(kind='barh', \n",
    "                                        title='Mean 销售金额 in each 区域', \n",
    "                                        color='orange',\n",
    "                                        figsize=(6, 4)) "
   ]
  },
  {
   "cell_type": "code",
   "execution_count": 36,
   "metadata": {},
   "outputs": [
    {
     "data": {
      "image/png": "[encoded data removed]",
      "text/plain": [
       "<Figure size 576x432 with 1 Axes>"
      ]
     },
     "metadata": {
      "needs_background": "light"
     },
     "output_type": "display_data"
    }
   ],
   "source": [
    "# with time we can also plot\n",
    "plt.figure(figsize=(8,6))\n",
    "sns.barplot(data=data_new, x='区域', y='销售金额', hue='year')\n",
    "plt.title('2014-2017每年各区域销售情况')\n",
    "plt.show()"
   ]
  },
  {
   "cell_type": "code",
   "execution_count": 37,
   "metadata": {},
   "outputs": [
    {
     "data": {
      "text/html": [
       "<style  type=\"text/css\" >\n",
       "#T_fabe1ec4_912b_11eb_9886_acde48001122row0_col0,#T_fabe1ec4_912b_11eb_9886_acde48001122row0_col1{\n",
       "            background-color:  #023858;\n",
       "            color:  #f1f1f1;\n",
       "        }#T_fabe1ec4_912b_11eb_9886_acde48001122row1_col0,#T_fabe1ec4_912b_11eb_9886_acde48001122row1_col1{\n",
       "            background-color:  #76aad0;\n",
       "            color:  #000000;\n",
       "        }#T_fabe1ec4_912b_11eb_9886_acde48001122row2_col0,#T_fabe1ec4_912b_11eb_9886_acde48001122row2_col1{\n",
       "            background-color:  #8eb3d5;\n",
       "            color:  #000000;\n",
       "        }#T_fabe1ec4_912b_11eb_9886_acde48001122row3_col0,#T_fabe1ec4_912b_11eb_9886_acde48001122row3_col1{\n",
       "            background-color:  #bcc7e1;\n",
       "            color:  #000000;\n",
       "        }#T_fabe1ec4_912b_11eb_9886_acde48001122row4_col0,#T_fabe1ec4_912b_11eb_9886_acde48001122row4_col1{\n",
       "            background-color:  #e5e1ef;\n",
       "            color:  #000000;\n",
       "        }#T_fabe1ec4_912b_11eb_9886_acde48001122row5_col0,#T_fabe1ec4_912b_11eb_9886_acde48001122row5_col1{\n",
       "            background-color:  #fff7fb;\n",
       "            color:  #000000;\n",
       "        }</style><table id=\"T_fabe1ec4_912b_11eb_9886_acde48001122\" ><thead>    <tr>        <th class=\"blank level0\" ></th>        <th class=\"col_heading level0 col0\" >销售金额</th>        <th class=\"col_heading level0 col1\" >percent</th>    </tr>    <tr>        <th class=\"index_name level0\" >区域</th>        <th class=\"blank\" ></th>        <th class=\"blank\" ></th>    </tr></thead><tbody>\n",
       "                <tr>\n",
       "                        <th id=\"T_fabe1ec4_912b_11eb_9886_acde48001122level0_row0\" class=\"row_heading level0 row0\" >华南</th>\n",
       "                        <td id=\"T_fabe1ec4_912b_11eb_9886_acde48001122row0_col0\" class=\"data row0 col0\" >1461323.127000</td>\n",
       "                        <td id=\"T_fabe1ec4_912b_11eb_9886_acde48001122row0_col1\" class=\"data row0 col1\" >0.363174</td>\n",
       "            </tr>\n",
       "            <tr>\n",
       "                        <th id=\"T_fabe1ec4_912b_11eb_9886_acde48001122level0_row1\" class=\"row_heading level0 row1\" >华北</th>\n",
       "                        <td id=\"T_fabe1ec4_912b_11eb_9886_acde48001122row1_col0\" class=\"data row1 col0\" >795805.810000</td>\n",
       "                        <td id=\"T_fabe1ec4_912b_11eb_9886_acde48001122row1_col1\" class=\"data row1 col1\" >0.197777</td>\n",
       "            </tr>\n",
       "            <tr>\n",
       "                        <th id=\"T_fabe1ec4_912b_11eb_9886_acde48001122level0_row2\" class=\"row_heading level0 row2\" >华东</th>\n",
       "                        <td id=\"T_fabe1ec4_912b_11eb_9886_acde48001122row2_col0\" class=\"data row2 col0\" >716048.861000</td>\n",
       "                        <td id=\"T_fabe1ec4_912b_11eb_9886_acde48001122row2_col1\" class=\"data row2 col1\" >0.177955</td>\n",
       "            </tr>\n",
       "            <tr>\n",
       "                        <th id=\"T_fabe1ec4_912b_11eb_9886_acde48001122level0_row3\" class=\"row_heading level0 row3\" >东北</th>\n",
       "                        <td id=\"T_fabe1ec4_912b_11eb_9886_acde48001122row3_col0\" class=\"data row3 col0\" >554671.783000</td>\n",
       "                        <td id=\"T_fabe1ec4_912b_11eb_9886_acde48001122row3_col1\" class=\"data row3 col1\" >0.137849</td>\n",
       "            </tr>\n",
       "            <tr>\n",
       "                        <th id=\"T_fabe1ec4_912b_11eb_9886_acde48001122level0_row4\" class=\"row_heading level0 row4\" >西北</th>\n",
       "                        <td id=\"T_fabe1ec4_912b_11eb_9886_acde48001122row4_col0\" class=\"data row4 col0\" >351580.261000</td>\n",
       "                        <td id=\"T_fabe1ec4_912b_11eb_9886_acde48001122row4_col1\" class=\"data row4 col1\" >0.087376</td>\n",
       "            </tr>\n",
       "            <tr>\n",
       "                        <th id=\"T_fabe1ec4_912b_11eb_9886_acde48001122level0_row5\" class=\"row_heading level0 row5\" >西南</th>\n",
       "                        <td id=\"T_fabe1ec4_912b_11eb_9886_acde48001122row5_col0\" class=\"data row5 col0\" >144325.198000</td>\n",
       "                        <td id=\"T_fabe1ec4_912b_11eb_9886_acde48001122row5_col1\" class=\"data row5 col1\" >0.035868</td>\n",
       "            </tr>\n",
       "    </tbody></table>"
      ],
      "text/plain": [
       "<pandas.io.formats.style.Styler at 0x7f9f82ffd190>"
      ]
     },
     "execution_count": 37,
     "metadata": {},
     "output_type": "execute_result"
    }
   ],
   "source": [
    "# caculate thr total 销售金额 in 4 regions\n",
    "region_Sales = data_new.groupby(['区域']).agg({'销售金额':'sum'})\n",
    "region_Sales['percent'] = region_Sales['销售金额'] / data_new['销售金额'].sum()\n",
    "region_Sales.sort_values('percent',inplace=True,ascending=False)\n",
    "region_Sales.style.background_gradient()"
   ]
  },
  {
   "cell_type": "code",
   "execution_count": 38,
   "metadata": {},
   "outputs": [
    {
     "data": {
      "image/png": "[encoded data removed]",
      "text/plain": [
       "<Figure size 576x576 with 1 Axes>"
      ]
     },
     "metadata": {},
     "output_type": "display_data"
    }
   ],
   "source": [
    "region_Sales['percent'].plot.pie(autopct='%.2f%%', figsize=(8,8))\n",
    "plt.title('四年各地区销售额占总销售额的百分比')\n",
    "plt.show()"
   ]
  },
  {
   "cell_type": "code",
   "execution_count": 39,
   "metadata": {},
   "outputs": [],
   "source": [
    "# we see that different regions, price are really close to each other. "
   ]
  },
  {
   "cell_type": "code",
   "execution_count": 40,
   "metadata": {},
   "outputs": [],
   "source": [
    "# 2.2 more details about region analysis"
   ]
  },
  {
   "cell_type": "code",
   "execution_count": 41,
   "metadata": {},
   "outputs": [
    {
     "data": {
      "text/plain": [
       "247"
      ]
     },
     "execution_count": 41,
     "metadata": {},
     "output_type": "execute_result"
    }
   ],
   "source": [
    "# Nummber of non-null unique 目的城市 values\n",
    "data_new['目的城市'].nunique()"
   ]
  },
  {
   "cell_type": "code",
   "execution_count": 42,
   "metadata": {},
   "outputs": [
    {
     "data": {
      "text/plain": [
       "广东省    1324\n",
       "广西省     794\n",
       "浙江省     662\n",
       "辽宁省     582\n",
       "内蒙古     488\n",
       "海南省     398\n",
       "山西省     392\n",
       "吉林省     358\n",
       "甘肃省     350\n",
       "北京市     336\n",
       "河南省     328\n",
       "安徽省     322\n",
       "天津市     298\n",
       "黑龙江     268\n",
       "河北省     202\n",
       "湖北省     200\n",
       "山东省     178\n",
       "湖南省     166\n",
       "陕西省     140\n",
       "福建省     116\n",
       "上海市     114\n",
       "江苏省     112\n",
       "四川省     106\n",
       "宁夏       98\n",
       "江西省      80\n",
       "贵州省      72\n",
       "新疆       72\n",
       "重庆市      68\n",
       "西藏       30\n",
       "青海省      20\n",
       "云南省      20\n",
       "Name: 目的省份, dtype: int64"
      ]
     },
     "execution_count": 42,
     "metadata": {},
     "output_type": "execute_result"
    }
   ],
   "source": [
    "data_new[\"目的省份\"].value_counts()"
   ]
  },
  {
   "cell_type": "markdown",
   "metadata": {},
   "source": [
    "we can easily see that “目的省份“，”目的城市“ have too many values\n",
    "so we will analyze it with another dimension \"产品子类别\"\n",
    "first use hot-encoding to transform the \"产品子类别\" to \"numerical\" values\n",
    "#bulid 产品子类别 group\n",
    "def good(x):\n",
    "    if x =='特惠炒货':\n",
    "        return 0\n",
    "    elif x==\"果果仁仁\":\n",
    "        return 1\n",
    "    else:\n",
    "        return 2\n",
    "data_new['产品子类别'] = data_new['产品子类别'].apply(good)"
   ]
  },
  {
   "cell_type": "code",
   "execution_count": 43,
   "metadata": {},
   "outputs": [
    {
     "data": {
      "text/plain": [
       "4920    磕壳坚果\n",
       "6022    磕壳坚果\n",
       "7407    磕壳坚果\n",
       "7964    磕壳坚果\n",
       "7325    磕壳坚果\n",
       "        ... \n",
       "3341    磕壳坚果\n",
       "2593    果果仁仁\n",
       "138     特惠炒货\n",
       "1002    果果仁仁\n",
       "2785    磕壳坚果\n",
       "Name: 产品子类别, Length: 8694, dtype: object"
      ]
     },
     "execution_count": 43,
     "metadata": {},
     "output_type": "execute_result"
    }
   ],
   "source": [
    "data_new[\"产品子类别\"]"
   ]
  },
  {
   "cell_type": "code",
   "execution_count": 44,
   "metadata": {},
   "outputs": [
    {
     "data": {
      "text/plain": [
       "array([[<AxesSubplot:title={'center':'上海市'}>,\n",
       "        <AxesSubplot:title={'center':'云南省'}>,\n",
       "        <AxesSubplot:title={'center':'内蒙古'}>,\n",
       "        <AxesSubplot:title={'center':'北京市'}>,\n",
       "        <AxesSubplot:title={'center':'吉林省'}>,\n",
       "        <AxesSubplot:title={'center':'四川省'}>],\n",
       "       [<AxesSubplot:title={'center':'天津市'}>,\n",
       "        <AxesSubplot:title={'center':'宁夏'}>,\n",
       "        <AxesSubplot:title={'center':'安徽省'}>,\n",
       "        <AxesSubplot:title={'center':'山东省'}>,\n",
       "        <AxesSubplot:title={'center':'山西省'}>,\n",
       "        <AxesSubplot:title={'center':'广东省'}>],\n",
       "       [<AxesSubplot:title={'center':'广西省'}>,\n",
       "        <AxesSubplot:title={'center':'新疆'}>,\n",
       "        <AxesSubplot:title={'center':'江苏省'}>,\n",
       "        <AxesSubplot:title={'center':'江西省'}>,\n",
       "        <AxesSubplot:title={'center':'河北省'}>,\n",
       "        <AxesSubplot:title={'center':'河南省'}>],\n",
       "       [<AxesSubplot:title={'center':'浙江省'}>,\n",
       "        <AxesSubplot:title={'center':'海南省'}>,\n",
       "        <AxesSubplot:title={'center':'湖北省'}>,\n",
       "        <AxesSubplot:title={'center':'湖南省'}>,\n",
       "        <AxesSubplot:title={'center':'甘肃省'}>,\n",
       "        <AxesSubplot:title={'center':'福建省'}>],\n",
       "       [<AxesSubplot:title={'center':'西藏'}>,\n",
       "        <AxesSubplot:title={'center':'贵州省'}>,\n",
       "        <AxesSubplot:title={'center':'辽宁省'}>,\n",
       "        <AxesSubplot:title={'center':'重庆市'}>,\n",
       "        <AxesSubplot:title={'center':'陕西省'}>,\n",
       "        <AxesSubplot:title={'center':'青海省'}>],\n",
       "       [<AxesSubplot:title={'center':'黑龙江'}>, <AxesSubplot:>,\n",
       "        <AxesSubplot:>, <AxesSubplot:>, <AxesSubplot:>, <AxesSubplot:>]],\n",
       "      dtype=object)"
      ]
     },
     "execution_count": 44,
     "metadata": {},
     "output_type": "execute_result"
    },
    {
     "data": {
      "image/png": "[encoded data removed]",
      "text/plain": [
       "<Figure size 432x288 with 36 Axes>"
      ]
     },
     "metadata": {
      "needs_background": "light"
     },
     "output_type": "display_data"
    }
   ],
   "source": [
    "# Plot the 产品子类别 distribution of different 目的省份\n",
    "data_new.hist(column='产品子类别', by=['目的省份'], sharex=True, sharey=True, bins=10)"
   ]
  },
  {
   "cell_type": "code",
   "execution_count": 45,
   "metadata": {},
   "outputs": [],
   "source": [
    "# as for 目的城市， its value is too much and if we group it into small groups \n",
    "# then we will get 目的省份 or even 区域 value, that's duplicated tasks"
   ]
  },
  {
   "cell_type": "code",
   "execution_count": 46,
   "metadata": {},
   "outputs": [],
   "source": [
    "# as for 快递公司， we combine it with 区域  to tell 快递公司's prefrence in different region"
   ]
  },
  {
   "cell_type": "markdown",
   "metadata": {},
   "source": [
    "Hypothesis Testing 1\n",
    "\n",
    "Null Hypothesis: There is no relationship between 快递公司 preference and the region of the customer.\n",
    "\n",
    "Alternate Hypothesis: There is a relationship between 快递公司 preference and the of region of the customer\n",
    "\n",
    "significance level, α to be 0.05."
   ]
  },
  {
   "cell_type": "code",
   "execution_count": 47,
   "metadata": {},
   "outputs": [
    {
     "data": {
      "text/html": [
       "<div>\n",
       "<style scoped>\n",
       "    .dataframe tbody tr th:only-of-type {\n",
       "        vertical-align: middle;\n",
       "    }\n",
       "\n",
       "    .dataframe tbody tr th {\n",
       "        vertical-align: top;\n",
       "    }\n",
       "\n",
       "    .dataframe thead th {\n",
       "        text-align: right;\n",
       "    }\n",
       "</style>\n",
       "<table border=\"1\" class=\"dataframe\">\n",
       "  <thead>\n",
       "    <tr style=\"text-align: right;\">\n",
       "      <th>快递公司</th>\n",
       "      <th>EMS</th>\n",
       "      <th>中通</th>\n",
       "      <th>圆通</th>\n",
       "      <th>申通</th>\n",
       "      <th>韵达</th>\n",
       "      <th>顺丰</th>\n",
       "    </tr>\n",
       "    <tr>\n",
       "      <th>区域</th>\n",
       "      <th></th>\n",
       "      <th></th>\n",
       "      <th></th>\n",
       "      <th></th>\n",
       "      <th></th>\n",
       "      <th></th>\n",
       "    </tr>\n",
       "  </thead>\n",
       "  <tbody>\n",
       "    <tr>\n",
       "      <th>东北</th>\n",
       "      <td>24</td>\n",
       "      <td>118</td>\n",
       "      <td>292</td>\n",
       "      <td>114</td>\n",
       "      <td>114</td>\n",
       "      <td>546</td>\n",
       "    </tr>\n",
       "    <tr>\n",
       "      <th>华东</th>\n",
       "      <td>20</td>\n",
       "      <td>120</td>\n",
       "      <td>424</td>\n",
       "      <td>214</td>\n",
       "      <td>124</td>\n",
       "      <td>682</td>\n",
       "    </tr>\n",
       "    <tr>\n",
       "      <th>华北</th>\n",
       "      <td>42</td>\n",
       "      <td>136</td>\n",
       "      <td>434</td>\n",
       "      <td>232</td>\n",
       "      <td>156</td>\n",
       "      <td>716</td>\n",
       "    </tr>\n",
       "    <tr>\n",
       "      <th>华南</th>\n",
       "      <td>38</td>\n",
       "      <td>236</td>\n",
       "      <td>924</td>\n",
       "      <td>368</td>\n",
       "      <td>272</td>\n",
       "      <td>1372</td>\n",
       "    </tr>\n",
       "    <tr>\n",
       "      <th>西北</th>\n",
       "      <td>24</td>\n",
       "      <td>46</td>\n",
       "      <td>178</td>\n",
       "      <td>90</td>\n",
       "      <td>70</td>\n",
       "      <td>272</td>\n",
       "    </tr>\n",
       "    <tr>\n",
       "      <th>西南</th>\n",
       "      <td>10</td>\n",
       "      <td>22</td>\n",
       "      <td>66</td>\n",
       "      <td>24</td>\n",
       "      <td>26</td>\n",
       "      <td>148</td>\n",
       "    </tr>\n",
       "  </tbody>\n",
       "</table>\n",
       "</div>"
      ],
      "text/plain": [
       "快递公司  EMS   中通   圆通   申通   韵达    顺丰\n",
       "区域                                 \n",
       "东北     24  118  292  114  114   546\n",
       "华东     20  120  424  214  124   682\n",
       "华北     42  136  434  232  156   716\n",
       "华南     38  236  924  368  272  1372\n",
       "西北     24   46  178   90   70   272\n",
       "西南     10   22   66   24   26   148"
      ]
     },
     "execution_count": 47,
     "metadata": {},
     "output_type": "execute_result"
    }
   ],
   "source": [
    "# data count: express and region\n",
    "observed = data_new.pivot_table('订单单号', ['区域'], '快递公司', aggfunc='count').reset_index()\n",
    "observed = observed.set_index('区域')\n",
    "observed"
   ]
  },
  {
   "cell_type": "markdown",
   "metadata": {},
   "source": [
    "we can easily see that among all the express companies, \"顺丰\" is the most popular no matter in what region"
   ]
  },
  {
   "cell_type": "code",
   "execution_count": 48,
   "metadata": {},
   "outputs": [
    {
     "name": "stdout",
     "output_type": "stream",
     "text": [
      "77.93869128094447\n",
      "2.392214649787065e-07\n"
     ]
    }
   ],
   "source": [
    "# Implement hypothesis verification and calculate p value\n",
    "chi1, p1, dof, expected = stats.chi2_contingency(observed)\n",
    "print(chi1)\n",
    "print(p1)"
   ]
  },
  {
   "cell_type": "markdown",
   "metadata": {},
   "source": [
    "Conclusion: We get a p1 value that is less than the confidence level that we specified before,\n",
    "so we can reject the null hypothesis, and the conclusion is that there is a relationship\n",
    "between express preference and the region of customer."
   ]
  },
  {
   "cell_type": "markdown",
   "metadata": {},
   "source": [
    "#### 3.customer sales situations"
   ]
  },
  {
   "cell_type": "code",
   "execution_count": 49,
   "metadata": {},
   "outputs": [],
   "source": [
    "# as for customer aspect,顾客姓名,收款方式,区域 are related."
   ]
  },
  {
   "cell_type": "code",
   "execution_count": 50,
   "metadata": {},
   "outputs": [
    {
     "data": {
      "text/plain": [
       "Adam Hart           46\n",
       "Carlos Soltero      46\n",
       "Brad Thomas         44\n",
       "Mark Cousins        42\n",
       "Giulietta Dortch    40\n",
       "                    ..\n",
       "Darrin Van Huff      2\n",
       "Clay Ludtke          2\n",
       "Neil French          2\n",
       "Noah Childs          2\n",
       "Bryan Davis          2\n",
       "Name: 顾客姓名, Length: 764, dtype: int64"
      ]
     },
     "execution_count": 50,
     "metadata": {},
     "output_type": "execute_result"
    }
   ],
   "source": [
    "# first we see how many different customers buy nuts through Tianmao these years\n",
    "data_new[\"顾客姓名\"].value_counts()"
   ]
  },
  {
   "cell_type": "markdown",
   "metadata": {},
   "source": [
    "we have 764 customers in total and the least buy time is 2 and the most buy time is 46."
   ]
  },
  {
   "cell_type": "code",
   "execution_count": 51,
   "metadata": {},
   "outputs": [
    {
     "data": {
      "text/plain": [
       "<seaborn.axisgrid.FacetGrid at 0x7f9f8307b130>"
      ]
     },
     "execution_count": 51,
     "metadata": {},
     "output_type": "execute_result"
    },
    {
     "data": {
      "image/png": "[encoded data removed]",
      "text/plain": [
       "<Figure size 695.25x432 with 1 Axes>"
      ]
     },
     "metadata": {
      "needs_background": "light"
     },
     "output_type": "display_data"
    }
   ],
   "source": [
    "# we analyze different customer will chose which payment method\n",
    "sns.relplot(x=\"顾客姓名\", y=\"收款方式\", data=data_new,\n",
    "            kind='scatter', \n",
    "            hue='month', \n",
    "            palette='husl',s=60, # 设置调色盘类型和散点大小\n",
    "            aspect=1.5,height=6  # 设置图像大小和横纵比\n",
    "           )"
   ]
  },
  {
   "cell_type": "markdown",
   "metadata": {},
   "source": [
    "to be honest, the last plot x label contains too many customers so the Rendering effect\n",
    "may not well, but we still can see same customer often use the same payment"
   ]
  },
  {
   "cell_type": "code",
   "execution_count": 52,
   "metadata": {},
   "outputs": [],
   "source": [
    "# with too many customers, we cannot analyze them together, so we chose certain customer to analyze\n",
    "# maybe named \"user profile\""
   ]
  },
  {
   "cell_type": "markdown",
   "metadata": {},
   "source": [
    "we select the users who buy the most nuts these years “Carlos Soltero” and “Adam Hart”.   \n",
    "we want compare their sales amount are same or not."
   ]
  },
  {
   "cell_type": "code",
   "execution_count": 53,
   "metadata": {},
   "outputs": [
    {
     "data": {
      "text/plain": [
       "13579.675000000003"
      ]
     },
     "execution_count": 53,
     "metadata": {},
     "output_type": "execute_result"
    }
   ],
   "source": [
    "a=data_new[data_new['顾客姓名'] == 'Carlos Soltero']\n",
    "data_new1=a[\"销售金额\"].sum()\n",
    "data_new1"
   ]
  },
  {
   "cell_type": "code",
   "execution_count": 54,
   "metadata": {},
   "outputs": [
    {
     "data": {
      "text/plain": [
       "25301.438"
      ]
     },
     "execution_count": 54,
     "metadata": {},
     "output_type": "execute_result"
    }
   ],
   "source": [
    "b=data_new[data_new['顾客姓名'] == 'Adam Hart']\n",
    "data_new2=b[\"销售金额\"].sum()\n",
    "data_new2"
   ]
  },
  {
   "cell_type": "markdown",
   "metadata": {},
   "source": [
    "we can see from the last two result, although they but the same time nuts,\n",
    "but use different money because of different goods."
   ]
  },
  {
   "cell_type": "code",
   "execution_count": 55,
   "metadata": {},
   "outputs": [],
   "source": [
    "# now do customer order behavior analysis"
   ]
  },
  {
   "cell_type": "code",
   "execution_count": 56,
   "metadata": {},
   "outputs": [],
   "source": [
    "# Intercept Customer_name, Order_Date, Quantity, Sales, Month as a new subset, \n",
    "# and sort Order_Date to facilitate subsequent analysis:"
   ]
  },
  {
   "cell_type": "code",
   "execution_count": 57,
   "metadata": {},
   "outputs": [],
   "source": [
    "grouped_Customer = data_new[['顾客姓名','订单日期', \n",
    "                       '销售数量', '销售金额', 'month']].sort_values(['订单日期']).groupby('顾客姓名')"
   ]
  },
  {
   "cell_type": "code",
   "execution_count": 58,
   "metadata": {},
   "outputs": [
    {
     "data": {
      "image/png": "[encoded data removed]",
      "text/plain": [
       "<Figure size 576x432 with 1 Axes>"
      ]
     },
     "metadata": {
      "needs_background": "light"
     },
     "output_type": "display_data"
    }
   ],
   "source": [
    "#Distribution of users' first purchase dates\n",
    "grouped_Customer.min()['订单日期'].value_counts().plot(figsize=(8,6))\n",
    "plt.title('用户第一次购买日期分布')\n",
    "plt.show()"
   ]
  },
  {
   "cell_type": "code",
   "execution_count": 59,
   "metadata": {},
   "outputs": [
    {
     "data": {
      "image/png": "[encoded data removed]",
      "text/plain": [
       "<Figure size 576x432 with 1 Axes>"
      ]
     },
     "metadata": {
      "needs_background": "light"
     },
     "output_type": "display_data"
    }
   ],
   "source": [
    "grouped_Customer.max().订单日期.value_counts().plot(figsize=(8,6))\n",
    "plt.title('用户第最后一次购买日期分布')\n",
    "plt.show()"
   ]
  },
  {
   "cell_type": "markdown",
   "metadata": {},
   "source": [
    "It can be seen from the above that the new user growth trend is slow after the beginning of the 15th year, \n",
    "and businesses can absorb more new users through advertising and other promotion strategies.\n",
    "Generally speaking, the number of new customers is decreasing year by year, \n",
    "which shows that the company maintains good old customers, but the acquisition rate of new customers is low. \n",
    "If a breakthrough can be made in acquiring new customers, it will bring a lot of room for growth."
   ]
  },
  {
   "cell_type": "code",
   "execution_count": 60,
   "metadata": {},
   "outputs": [
    {
     "data": {
      "text/plain": [
       "False    764\n",
       "dtype: int64"
      ]
     },
     "execution_count": 60,
     "metadata": {},
     "output_type": "execute_result"
    }
   ],
   "source": [
    "# Next, let’s take a look at the number of customers who have only purchased once:\n",
    "# Count the first purchase and last purchase date of each customer\n",
    "Customer_life = grouped_Customer['订单日期'].agg(['min','max'])\n",
    "# View the number of customers who have only one purchase record. \n",
    "# If the first and last purchase dates are the same, it means that there is only one purchase\n",
    "(Customer_life['min']==Customer_life['max']).value_counts()"
   ]
  },
  {
   "cell_type": "markdown",
   "metadata": {},
   "source": [
    "From the results, there is no user who only consumes once, most users will buy multiple times, indicating that the repurchase rate is very high, and it also verifies the above conclusion that the company has a good maintenance of old customers."
   ]
  },
  {
   "cell_type": "markdown",
   "metadata": {},
   "source": [
    "Customer RFM模型分析\n",
    "R (Recency): The interval between the client's most recent transaction. \n",
    "The larger the R value, the longer the date the customer transaction occurred, and vice versa,\n",
    "the closer the date the customer transaction occurred.\n",
    "F (Frequency): The number of transactions by the customer in the most recent period of time. \n",
    "The larger the F value, the more frequent customer transactions, and vice versa, \n",
    "the less active customer transactions.\n",
    "M (Monetary): The amount of transactions made by the customer in the most recent period of time. \n",
    "The greater the value of M, the higher the customer value, and vice versa, the lower the customer value."
   ]
  },
  {
   "cell_type": "code",
   "execution_count": 61,
   "metadata": {},
   "outputs": [],
   "source": [
    "# first build RFM table"
   ]
  },
  {
   "cell_type": "code",
   "execution_count": 62,
   "metadata": {},
   "outputs": [
    {
     "data": {
      "text/html": [
       "<div>\n",
       "<style scoped>\n",
       "    .dataframe tbody tr th:only-of-type {\n",
       "        vertical-align: middle;\n",
       "    }\n",
       "\n",
       "    .dataframe tbody tr th {\n",
       "        vertical-align: top;\n",
       "    }\n",
       "\n",
       "    .dataframe thead th {\n",
       "        text-align: right;\n",
       "    }\n",
       "</style>\n",
       "<table border=\"1\" class=\"dataframe\">\n",
       "  <thead>\n",
       "    <tr style=\"text-align: right;\">\n",
       "      <th></th>\n",
       "      <th>R</th>\n",
       "      <th>F</th>\n",
       "      <th>M</th>\n",
       "    </tr>\n",
       "    <tr>\n",
       "      <th>顾客姓名</th>\n",
       "      <th></th>\n",
       "      <th></th>\n",
       "      <th></th>\n",
       "    </tr>\n",
       "  </thead>\n",
       "  <tbody>\n",
       "    <tr>\n",
       "      <th>Aaron Bergman</th>\n",
       "      <td>52.0</td>\n",
       "      <td>10</td>\n",
       "      <td>5516.790</td>\n",
       "    </tr>\n",
       "    <tr>\n",
       "      <th>Aaron Hawkins</th>\n",
       "      <td>83.0</td>\n",
       "      <td>22</td>\n",
       "      <td>16954.784</td>\n",
       "    </tr>\n",
       "    <tr>\n",
       "      <th>Aaron Smayling</th>\n",
       "      <td>27.0</td>\n",
       "      <td>30</td>\n",
       "      <td>13807.693</td>\n",
       "    </tr>\n",
       "    <tr>\n",
       "      <th>Adam Bellavance</th>\n",
       "      <td>105.0</td>\n",
       "      <td>16</td>\n",
       "      <td>6366.545</td>\n",
       "    </tr>\n",
       "    <tr>\n",
       "      <th>Adam Hart</th>\n",
       "      <td>50.0</td>\n",
       "      <td>46</td>\n",
       "      <td>25301.438</td>\n",
       "    </tr>\n",
       "    <tr>\n",
       "      <th>Adam Shillingsburg</th>\n",
       "      <td>86.0</td>\n",
       "      <td>26</td>\n",
       "      <td>11145.795</td>\n",
       "    </tr>\n",
       "  </tbody>\n",
       "</table>\n",
       "</div>"
      ],
      "text/plain": [
       "                        R   F          M\n",
       "顾客姓名                                    \n",
       "Aaron Bergman        52.0  10   5516.790\n",
       "Aaron Hawkins        83.0  22  16954.784\n",
       "Aaron Smayling       27.0  30  13807.693\n",
       "Adam Bellavance     105.0  16   6366.545\n",
       "Adam Hart            50.0  46  25301.438\n",
       "Adam Shillingsburg   86.0  26  11145.795"
      ]
     },
     "execution_count": 62,
     "metadata": {},
     "output_type": "execute_result"
    }
   ],
   "source": [
    "rfm = data_new.pivot_table(index='顾客姓名', \n",
    "                     values = ['订单单号','销售金额','订单日期'], \n",
    "                     aggfunc={'订单单号':'count','销售金额':'sum','订单日期':'max'})\n",
    "\n",
    "# Take the largest transaction date among all users as the standard, \n",
    "# and find the time interval of each transaction as R.\n",
    "rfm['R'] = (rfm.订单日期.max()-rfm.订单日期) / np.timedelta64(1,'D')\n",
    "\n",
    "# The number of orders for each customer is F, and the total sales is M.\n",
    "rfm.rename(columns={'订单单号':'F','销售金额':'M'},inplace = True)\n",
    "rfm = rfm[['R','F','M']]\n",
    "rfm.head(6)"
   ]
  },
  {
   "cell_type": "code",
   "execution_count": 63,
   "metadata": {},
   "outputs": [
    {
     "data": {
      "text/html": [
       "<div>\n",
       "<style scoped>\n",
       "    .dataframe tbody tr th:only-of-type {\n",
       "        vertical-align: middle;\n",
       "    }\n",
       "\n",
       "    .dataframe tbody tr th {\n",
       "        vertical-align: top;\n",
       "    }\n",
       "\n",
       "    .dataframe thead th {\n",
       "        text-align: right;\n",
       "    }\n",
       "</style>\n",
       "<table border=\"1\" class=\"dataframe\">\n",
       "  <thead>\n",
       "    <tr style=\"text-align: right;\">\n",
       "      <th></th>\n",
       "      <th>R</th>\n",
       "      <th>F</th>\n",
       "      <th>M</th>\n",
       "      <th>Label</th>\n",
       "    </tr>\n",
       "    <tr>\n",
       "      <th>顾客姓名</th>\n",
       "      <th></th>\n",
       "      <th></th>\n",
       "      <th></th>\n",
       "      <th></th>\n",
       "    </tr>\n",
       "  </thead>\n",
       "  <tbody>\n",
       "    <tr>\n",
       "      <th>Aaron Bergman</th>\n",
       "      <td>52.0</td>\n",
       "      <td>10</td>\n",
       "      <td>5516.790</td>\n",
       "      <td>重要发展客户</td>\n",
       "    </tr>\n",
       "    <tr>\n",
       "      <th>Aaron Hawkins</th>\n",
       "      <td>83.0</td>\n",
       "      <td>22</td>\n",
       "      <td>16954.784</td>\n",
       "      <td>重要保持客户</td>\n",
       "    </tr>\n",
       "    <tr>\n",
       "      <th>Aaron Smayling</th>\n",
       "      <td>27.0</td>\n",
       "      <td>30</td>\n",
       "      <td>13807.693</td>\n",
       "      <td>重要保持客户</td>\n",
       "    </tr>\n",
       "    <tr>\n",
       "      <th>Adam Bellavance</th>\n",
       "      <td>105.0</td>\n",
       "      <td>16</td>\n",
       "      <td>6366.545</td>\n",
       "      <td>重要保持客户</td>\n",
       "    </tr>\n",
       "    <tr>\n",
       "      <th>Adam Hart</th>\n",
       "      <td>50.0</td>\n",
       "      <td>46</td>\n",
       "      <td>25301.438</td>\n",
       "      <td>重要保持客户</td>\n",
       "    </tr>\n",
       "    <tr>\n",
       "      <th>Adam Shillingsburg</th>\n",
       "      <td>86.0</td>\n",
       "      <td>26</td>\n",
       "      <td>11145.795</td>\n",
       "      <td>重要保持客户</td>\n",
       "    </tr>\n",
       "  </tbody>\n",
       "</table>\n",
       "</div>"
      ],
      "text/plain": [
       "                        R   F          M   Label\n",
       "顾客姓名                                            \n",
       "Aaron Bergman        52.0  10   5516.790  重要发展客户\n",
       "Aaron Hawkins        83.0  22  16954.784  重要保持客户\n",
       "Aaron Smayling       27.0  30  13807.693  重要保持客户\n",
       "Adam Bellavance     105.0  16   6366.545  重要保持客户\n",
       "Adam Hart            50.0  46  25301.438  重要保持客户\n",
       "Adam Shillingsburg   86.0  26  11145.795  重要保持客户"
      ]
     },
     "execution_count": 63,
     "metadata": {},
     "output_type": "execute_result"
    }
   ],
   "source": [
    "# Now mark the customer value and divide the customer into 8 levels (2x2x2):\n",
    "# Based on the average value for comparison, if it exceeds the average value, it is 1, otherwise it is 0.\n",
    "def rfm_func(x):\n",
    "    level = x.apply(lambda x: '1' if x>0 else '0')\n",
    "    level = level.R + level.F + level.M\n",
    "    d = {\"111\": \"重要价值客户\",\n",
    "        \"011\": \"重要保持客户\",\n",
    "        \"101\": \"重要挽留客户\",\n",
    "        \"001\": \"重要发展客户\",\n",
    "        \"110\": \"一般价值客户\",\n",
    "        \"010\": \"一般保持客户\",\n",
    "        \"100\": \"一般挽留客户\",\n",
    "        \"000\": \"一般发展客户\"}\n",
    "    return d[level]\n",
    "\n",
    "rfm['Label'] = rfm.apply(lambda x: x-x.mean()).apply(rfm_func, axis=1)\n",
    "rfm.head(6)"
   ]
  },
  {
   "cell_type": "code",
   "execution_count": 64,
   "metadata": {},
   "outputs": [
    {
     "data": {
      "image/png": "[encoded data removed]",
      "text/plain": [
       "<Figure size 576x432 with 1 Axes>"
      ]
     },
     "metadata": {
      "needs_background": "light"
     },
     "output_type": "display_data"
    }
   ],
   "source": [
    "# Visual display\n",
    "rfm.loc[rfm.Label=='重要价值客户','Color']='g'\n",
    "rfm.loc[rfm.Label!='重要价值客户','Color']='r'\n",
    "rfm.plot.scatter('F', 'R',c=rfm.Color, figsize=(8,6))\n",
    "plt.title('Important value customer and not Important value customer distribution')\n",
    "plt.show()"
   ]
  },
  {
   "cell_type": "markdown",
   "metadata": {},
   "source": [
    "Different customer groups can be identified through RFM, personalized communication and marketing services can be developed for their user portraits, and their favorite products can be recommended in the future to provide strong support for more marketing decisions and create greater benefits for the company."
   ]
  },
  {
   "cell_type": "code",
   "execution_count": 65,
   "metadata": {},
   "outputs": [],
   "source": [
    "# Analysis of users and repurchase rate."
   ]
  },
  {
   "cell_type": "code",
   "execution_count": 66,
   "metadata": {},
   "outputs": [
    {
     "data": {
      "text/html": [
       "<div>\n",
       "<style scoped>\n",
       "    .dataframe tbody tr th:only-of-type {\n",
       "        vertical-align: middle;\n",
       "    }\n",
       "\n",
       "    .dataframe tbody tr th {\n",
       "        vertical-align: top;\n",
       "    }\n",
       "\n",
       "    .dataframe thead tr th {\n",
       "        text-align: left;\n",
       "    }\n",
       "\n",
       "    .dataframe thead tr:last-of-type th {\n",
       "        text-align: right;\n",
       "    }\n",
       "</style>\n",
       "<table border=\"1\" class=\"dataframe\">\n",
       "  <thead>\n",
       "    <tr>\n",
       "      <th>year</th>\n",
       "      <th colspan=\"10\" halign=\"left\">2014</th>\n",
       "      <th>...</th>\n",
       "      <th colspan=\"10\" halign=\"left\">2017</th>\n",
       "    </tr>\n",
       "    <tr>\n",
       "      <th>month</th>\n",
       "      <th>1</th>\n",
       "      <th>2</th>\n",
       "      <th>3</th>\n",
       "      <th>4</th>\n",
       "      <th>5</th>\n",
       "      <th>6</th>\n",
       "      <th>7</th>\n",
       "      <th>8</th>\n",
       "      <th>9</th>\n",
       "      <th>10</th>\n",
       "      <th>...</th>\n",
       "      <th>3</th>\n",
       "      <th>4</th>\n",
       "      <th>5</th>\n",
       "      <th>6</th>\n",
       "      <th>7</th>\n",
       "      <th>8</th>\n",
       "      <th>9</th>\n",
       "      <th>10</th>\n",
       "      <th>11</th>\n",
       "      <th>12</th>\n",
       "    </tr>\n",
       "    <tr>\n",
       "      <th>顾客姓名</th>\n",
       "      <th></th>\n",
       "      <th></th>\n",
       "      <th></th>\n",
       "      <th></th>\n",
       "      <th></th>\n",
       "      <th></th>\n",
       "      <th></th>\n",
       "      <th></th>\n",
       "      <th></th>\n",
       "      <th></th>\n",
       "      <th></th>\n",
       "      <th></th>\n",
       "      <th></th>\n",
       "      <th></th>\n",
       "      <th></th>\n",
       "      <th></th>\n",
       "      <th></th>\n",
       "      <th></th>\n",
       "      <th></th>\n",
       "      <th></th>\n",
       "      <th></th>\n",
       "    </tr>\n",
       "  </thead>\n",
       "  <tbody>\n",
       "    <tr>\n",
       "      <th>Aaron Bergman</th>\n",
       "      <td>0</td>\n",
       "      <td>0</td>\n",
       "      <td>0</td>\n",
       "      <td>0</td>\n",
       "      <td>0</td>\n",
       "      <td>0</td>\n",
       "      <td>1</td>\n",
       "      <td>0</td>\n",
       "      <td>0</td>\n",
       "      <td>0</td>\n",
       "      <td>...</td>\n",
       "      <td>0</td>\n",
       "      <td>0</td>\n",
       "      <td>0</td>\n",
       "      <td>0</td>\n",
       "      <td>1</td>\n",
       "      <td>0</td>\n",
       "      <td>0</td>\n",
       "      <td>0</td>\n",
       "      <td>1</td>\n",
       "      <td>0</td>\n",
       "    </tr>\n",
       "    <tr>\n",
       "      <th>Aaron Hawkins</th>\n",
       "      <td>0</td>\n",
       "      <td>0</td>\n",
       "      <td>0</td>\n",
       "      <td>0</td>\n",
       "      <td>1</td>\n",
       "      <td>0</td>\n",
       "      <td>0</td>\n",
       "      <td>1</td>\n",
       "      <td>0</td>\n",
       "      <td>1</td>\n",
       "      <td>...</td>\n",
       "      <td>0</td>\n",
       "      <td>0</td>\n",
       "      <td>1</td>\n",
       "      <td>0</td>\n",
       "      <td>0</td>\n",
       "      <td>0</td>\n",
       "      <td>1</td>\n",
       "      <td>1</td>\n",
       "      <td>0</td>\n",
       "      <td>0</td>\n",
       "    </tr>\n",
       "    <tr>\n",
       "      <th>Aaron Smayling</th>\n",
       "      <td>1</td>\n",
       "      <td>0</td>\n",
       "      <td>1</td>\n",
       "      <td>1</td>\n",
       "      <td>1</td>\n",
       "      <td>1</td>\n",
       "      <td>0</td>\n",
       "      <td>0</td>\n",
       "      <td>1</td>\n",
       "      <td>1</td>\n",
       "      <td>...</td>\n",
       "      <td>0</td>\n",
       "      <td>0</td>\n",
       "      <td>1</td>\n",
       "      <td>0</td>\n",
       "      <td>0</td>\n",
       "      <td>0</td>\n",
       "      <td>0</td>\n",
       "      <td>0</td>\n",
       "      <td>1</td>\n",
       "      <td>1</td>\n",
       "    </tr>\n",
       "    <tr>\n",
       "      <th>Adam Bellavance</th>\n",
       "      <td>0</td>\n",
       "      <td>0</td>\n",
       "      <td>0</td>\n",
       "      <td>0</td>\n",
       "      <td>0</td>\n",
       "      <td>0</td>\n",
       "      <td>0</td>\n",
       "      <td>0</td>\n",
       "      <td>0</td>\n",
       "      <td>1</td>\n",
       "      <td>...</td>\n",
       "      <td>0</td>\n",
       "      <td>1</td>\n",
       "      <td>1</td>\n",
       "      <td>0</td>\n",
       "      <td>0</td>\n",
       "      <td>0</td>\n",
       "      <td>1</td>\n",
       "      <td>0</td>\n",
       "      <td>0</td>\n",
       "      <td>0</td>\n",
       "    </tr>\n",
       "    <tr>\n",
       "      <th>Adam Hart</th>\n",
       "      <td>1</td>\n",
       "      <td>1</td>\n",
       "      <td>0</td>\n",
       "      <td>0</td>\n",
       "      <td>0</td>\n",
       "      <td>1</td>\n",
       "      <td>1</td>\n",
       "      <td>0</td>\n",
       "      <td>0</td>\n",
       "      <td>0</td>\n",
       "      <td>...</td>\n",
       "      <td>1</td>\n",
       "      <td>0</td>\n",
       "      <td>0</td>\n",
       "      <td>0</td>\n",
       "      <td>0</td>\n",
       "      <td>0</td>\n",
       "      <td>1</td>\n",
       "      <td>0</td>\n",
       "      <td>1</td>\n",
       "      <td>0</td>\n",
       "    </tr>\n",
       "    <tr>\n",
       "      <th>Adam Shillingsburg</th>\n",
       "      <td>1</td>\n",
       "      <td>1</td>\n",
       "      <td>1</td>\n",
       "      <td>0</td>\n",
       "      <td>0</td>\n",
       "      <td>1</td>\n",
       "      <td>1</td>\n",
       "      <td>0</td>\n",
       "      <td>1</td>\n",
       "      <td>0</td>\n",
       "      <td>...</td>\n",
       "      <td>0</td>\n",
       "      <td>0</td>\n",
       "      <td>0</td>\n",
       "      <td>0</td>\n",
       "      <td>1</td>\n",
       "      <td>0</td>\n",
       "      <td>1</td>\n",
       "      <td>1</td>\n",
       "      <td>0</td>\n",
       "      <td>0</td>\n",
       "    </tr>\n",
       "  </tbody>\n",
       "</table>\n",
       "<p>6 rows × 46 columns</p>\n",
       "</div>"
      ],
      "text/plain": [
       "year               2014                             ... 2017                 \\\n",
       "month                1  2  3  4  5  6  7  8  9  10  ...   3  4  5  6  7  8    \n",
       "顾客姓名                                                ...                       \n",
       "Aaron Bergman         0  0  0  0  0  0  1  0  0  0  ...    0  0  0  0  1  0   \n",
       "Aaron Hawkins         0  0  0  0  1  0  0  1  0  1  ...    0  0  1  0  0  0   \n",
       "Aaron Smayling        1  0  1  1  1  1  0  0  1  1  ...    0  0  1  0  0  0   \n",
       "Adam Bellavance       0  0  0  0  0  0  0  0  0  1  ...    0  1  1  0  0  0   \n",
       "Adam Hart             1  1  0  0  0  1  1  0  0  0  ...    1  0  0  0  0  0   \n",
       "Adam Shillingsburg    1  1  1  0  0  1  1  0  1  0  ...    0  0  0  0  1  0   \n",
       "\n",
       "year                            \n",
       "month              9  10 11 12  \n",
       "顾客姓名                            \n",
       "Aaron Bergman       0  0  1  0  \n",
       "Aaron Hawkins       1  1  0  0  \n",
       "Aaron Smayling      0  0  1  1  \n",
       "Adam Bellavance     1  0  0  0  \n",
       "Adam Hart           1  0  1  0  \n",
       "Adam Shillingsburg  1  1  0  0  \n",
       "\n",
       "[6 rows x 46 columns]"
      ]
     },
     "execution_count": 66,
     "metadata": {},
     "output_type": "execute_result"
    }
   ],
   "source": [
    "# Count the number of purchases made by each user each month.\n",
    "pivoted_counts = data_new.pivot_table(index='顾客姓名', \n",
    "                               columns=['year','month'], \n",
    "                               values='订单日期', \n",
    "                               aggfunc='count').fillna(0)\n",
    "\n",
    "# Set all the items greater than once to 1, otherwise set to 0\n",
    "data_new_purchase = pivoted_counts.applymap(lambda x: 1 if x>0 else 0)\n",
    "data_new_purchase.head(6)"
   ]
  },
  {
   "cell_type": "code",
   "execution_count": 67,
   "metadata": {},
   "outputs": [
    {
     "data": {
      "image/png": "[encoded data removed]",
      "text/plain": [
       "<Figure size 720x432 with 1 Axes>"
      ]
     },
     "metadata": {
      "needs_background": "light"
     },
     "output_type": "display_data"
    }
   ],
   "source": [
    "#Repurchase rate calculation indicator: \n",
    "# users who have purchased more than once in this month are counted as repurchase.\n",
    "purchase_r = pivoted_counts.applymap(lambda x: 1 if x>1 else np.NaN if x==0 else 0)\n",
    "(purchase_r.sum()/purchase_r.count()).plot(figsize=(10,6))\n",
    "plt.title('Change trend of monthly repurchase rate')\n",
    "plt.show()"
   ]
  },
  {
   "cell_type": "markdown",
   "metadata": {},
   "source": [
    "we can see from the above, it can be found that although the overall repurchase rate is not very high, it is very good in some months. The repurchase rate peaks in the middle of the year and the end of the year, which may be related to merchant discount activities or festivals. Therefore, merchants can make appropriate adjustments to make the repurchase rate higher."
   ]
  },
  {
   "cell_type": "markdown",
   "metadata": {},
   "source": [
    "#### 4.goods sales situations"
   ]
  },
  {
   "cell_type": "code",
   "execution_count": 68,
   "metadata": {},
   "outputs": [],
   "source": [
    "# goods related attributes: 产品名称，产品类别，产品子类别.\n",
    "# as we can see 产品类别 are all 坚果炒货, it's one kind of goods, so this attribute is not in our consideration."
   ]
  },
  {
   "cell_type": "code",
   "execution_count": 69,
   "metadata": {},
   "outputs": [
    {
     "data": {
      "text/plain": [
       "产品子类别\n",
       "磕壳坚果    3840\n",
       "果果仁仁    2560\n",
       "特惠炒货    2294\n",
       "Name: 顾客姓名, dtype: int64"
      ]
     },
     "execution_count": 69,
     "metadata": {},
     "output_type": "execute_result"
    }
   ],
   "source": [
    "# with 销售数量 and 销售金额 we combine 产品名称 and 产品子类别 do some analysis.\n",
    "# First, count the top 1 产品子类别 in 销售数量:\n",
    "产品子类别_count = data_new.groupby('产品子类别').count()['顾客姓名'].sort_values(ascending=False)\n",
    "产品子类别_count.head(3)"
   ]
  },
  {
   "cell_type": "code",
   "execution_count": 70,
   "metadata": {},
   "outputs": [],
   "source": [
    "#磕壳坚果 is the most popular goods preferred by people."
   ]
  },
  {
   "cell_type": "code",
   "execution_count": 71,
   "metadata": {},
   "outputs": [
    {
     "data": {
      "text/plain": [
       "产品名称\n",
       "东北红松330g        338\n",
       "精装纸皮核桃380g      330\n",
       "炭烧腰果120g        320\n",
       "奶香巴旦木238g       194\n",
       "夏威夷果盐焗味200g     192\n",
       "西瓜子奶油味218g      184\n",
       "碧根果椒盐味190g*3    176\n",
       "盐焗扁核仁210g       174\n",
       "Name: 顾客姓名, dtype: int64"
      ]
     },
     "execution_count": 71,
     "metadata": {},
     "output_type": "execute_result"
    }
   ],
   "source": [
    "# then on detailed 产品名称, count the top 8 in 销售数量:\n",
    "产品名称_count = data_new.groupby('产品名称').count()['顾客姓名'].sort_values(ascending=False)\n",
    "产品名称_count.head(8)"
   ]
  },
  {
   "cell_type": "code",
   "execution_count": 72,
   "metadata": {},
   "outputs": [
    {
     "data": {
      "text/plain": [
       "产品名称\n",
       "精装纸皮核桃380g      360484.929\n",
       "东北红松330g        340120.767\n",
       "碧根果椒盐味190g*3    267516.030\n",
       "自然开心果210g       215032.573\n",
       "野山小核桃仁160g      200889.024\n",
       "奶香巴旦木238g       162070.006\n",
       "盐焗扁核仁210g       132757.495\n",
       "奶香夏威夷果280g      128236.316\n",
       "Name: 销售金额, dtype: float64"
      ]
     },
     "execution_count": 72,
     "metadata": {},
     "output_type": "execute_result"
    }
   ],
   "source": [
    "# The top 8 products in terms of 销售金额:\n",
    "产品名称_amount = data_new.groupby('产品名称').sum()['销售金额'].sort_values(ascending=False)\n",
    "产品名称_amount.head(8)"
   ]
  },
  {
   "cell_type": "markdown",
   "metadata": {},
   "source": [
    "From the above results, it can be seen that most of the top sales and the top sales are the same; you can focus on increasing the sales of this part of the product to increase the overall profit."
   ]
  },
  {
   "cell_type": "code",
   "execution_count": 73,
   "metadata": {},
   "outputs": [],
   "source": [
    "# Then look at the sales of specific product categories:"
   ]
  },
  {
   "cell_type": "code",
   "execution_count": 74,
   "metadata": {},
   "outputs": [
    {
     "data": {
      "text/html": [
       "<div>\n",
       "<style scoped>\n",
       "    .dataframe tbody tr th:only-of-type {\n",
       "        vertical-align: middle;\n",
       "    }\n",
       "\n",
       "    .dataframe tbody tr th {\n",
       "        vertical-align: top;\n",
       "    }\n",
       "\n",
       "    .dataframe thead th {\n",
       "        text-align: right;\n",
       "    }\n",
       "</style>\n",
       "<table border=\"1\" class=\"dataframe\">\n",
       "  <thead>\n",
       "    <tr style=\"text-align: right;\">\n",
       "      <th></th>\n",
       "      <th>产品类别</th>\n",
       "      <th>产品子类别</th>\n",
       "      <th>销售数量</th>\n",
       "      <th>销售金额</th>\n",
       "      <th>cum_percent</th>\n",
       "    </tr>\n",
       "  </thead>\n",
       "  <tbody>\n",
       "    <tr>\n",
       "      <th>0</th>\n",
       "      <td>坚果炒货</td>\n",
       "      <td>磕壳坚果</td>\n",
       "      <td>106252</td>\n",
       "      <td>2459656.144</td>\n",
       "      <td>0.611284</td>\n",
       "    </tr>\n",
       "    <tr>\n",
       "      <th>1</th>\n",
       "      <td>坚果炒货</td>\n",
       "      <td>果果仁仁</td>\n",
       "      <td>70963</td>\n",
       "      <td>1124079.547</td>\n",
       "      <td>0.890645</td>\n",
       "    </tr>\n",
       "    <tr>\n",
       "      <th>2</th>\n",
       "      <td>坚果炒货</td>\n",
       "      <td>特惠炒货</td>\n",
       "      <td>63502</td>\n",
       "      <td>440019.349</td>\n",
       "      <td>1.000000</td>\n",
       "    </tr>\n",
       "  </tbody>\n",
       "</table>\n",
       "</div>"
      ],
      "text/plain": [
       "   产品类别 产品子类别    销售数量         销售金额  cum_percent\n",
       "0  坚果炒货  磕壳坚果  106252  2459656.144     0.611284\n",
       "1  坚果炒货  果果仁仁   70963  1124079.547     0.890645\n",
       "2  坚果炒货  特惠炒货   63502   440019.349     1.000000"
      ]
     },
     "execution_count": 74,
     "metadata": {},
     "output_type": "execute_result"
    }
   ],
   "source": [
    "# Group by category and sub-category, and count sales and profits.\n",
    "data_new_产品类别_产品子类别 = data_new.groupby(['产品类别','产品子类别']).sum()[['销售数量','销售金额']]\n",
    "# Sort by sales in reverse order.\n",
    "data_new_产品类别_产品子类别.sort_values('销售金额', ascending=False, inplace=True)\n",
    "# Calculate the cumulative sales of each category of goods.\n",
    "data_new_产品类别_产品子类别['cum_percent'] = data_new_产品类别_产品子类别['销售金额'].cumsum() / data_new_产品类别_产品子类别['销售金额'].sum()\n",
    "data_new_产品类别_产品子类别.reset_index()"
   ]
  },
  {
   "cell_type": "code",
   "execution_count": 75,
   "metadata": {},
   "outputs": [
    {
     "data": {
      "image/png": "[encoded data removed]",
      "text/plain": [
       "<Figure size 576x576 with 1 Axes>"
      ]
     },
     "metadata": {},
     "output_type": "display_data"
    }
   ],
   "source": [
    "data_new_产品类别_产品子类别['销售金额'].plot(kind='pie', autopct='%.2f%%', figsize=(8,8))\n",
    "plt.title('different subcategory occupation')\n",
    "plt.show()"
   ]
  },
  {
   "cell_type": "markdown",
   "metadata": {},
   "source": [
    "From the above chart, you can clearly see the comparison of the sales contribution of different types of goods. Knocked nuts are the most contributory. After that, merchants can invest more in this. It is the main product of its own advantage and should continue to be maintained in the subsequent business process. It can appropriately increase investment in combination with overall strategic development and gradually form its own brand. Then it is necessary to analyze the actual business and appropriately improve the business strategy."
   ]
  },
  {
   "cell_type": "markdown",
   "metadata": {},
   "source": [
    "## Part five: feature engineering"
   ]
  },
  {
   "cell_type": "code",
   "execution_count": 76,
   "metadata": {},
   "outputs": [],
   "source": [
    "# Scaling the Dataset\n",
    "from sklearn.preprocessing import StandardScaler\n",
    "nayasc = StandardScaler()"
   ]
  },
  {
   "cell_type": "markdown",
   "metadata": {},
   "source": [
    "Actually we have already do some feature engineering in last steps.\n",
    "we get year,month,day,销售单价 new columns."
   ]
  },
  {
   "cell_type": "code",
   "execution_count": 77,
   "metadata": {},
   "outputs": [
    {
     "name": "stdout",
     "output_type": "stream",
     "text": [
      "<class 'pandas.core.frame.DataFrame'>\n",
      "Int64Index: 8694 entries, 4920 to 2785\n",
      "Data columns (total 17 columns):\n",
      " #   Column  Non-Null Count  Dtype         \n",
      "---  ------  --------------  -----         \n",
      " 0   订单日期    8694 non-null   datetime64[ns]\n",
      " 1   产品名称    8694 non-null   object        \n",
      " 2   顾客姓名    8694 non-null   object        \n",
      " 3   订单单号    8694 non-null   int64         \n",
      " 4   区域      8694 non-null   object        \n",
      " 5   目的省份    8694 non-null   object        \n",
      " 6   目的城市    8694 non-null   object        \n",
      " 7   快递公司    8694 non-null   object        \n",
      " 8   产品类别    8694 non-null   object        \n",
      " 9   产品子类别   8694 non-null   object        \n",
      " 10  销售数量    8694 non-null   int64         \n",
      " 11  销售金额    8694 non-null   float64       \n",
      " 12  收款方式    8694 non-null   object        \n",
      " 13  month   8694 non-null   int64         \n",
      " 14  year    8694 non-null   int64         \n",
      " 15  day     8694 non-null   int64         \n",
      " 16  销售单价    8694 non-null   float64       \n",
      "dtypes: datetime64[ns](1), float64(2), int64(5), object(9)\n",
      "memory usage: 1.5+ MB\n"
     ]
    }
   ],
   "source": [
    "#now we have these columns\n",
    "data_new.info()"
   ]
  },
  {
   "cell_type": "code",
   "execution_count": 78,
   "metadata": {},
   "outputs": [],
   "source": [
    "# as we see all产品类别==坚果炒货,so we will drop it.\n",
    "data_new = data_new.drop('产品类别', axis = 1)   #axis = 1 for columns "
   ]
  },
  {
   "cell_type": "code",
   "execution_count": 79,
   "metadata": {},
   "outputs": [],
   "source": [
    "# similarily,收款方式 is not important in further modeling, so we drop it as well.\n",
    "data_new = data_new.drop('收款方式', axis = 1)   #axis = 1 for columns \n",
    "#订单单号 is just a series of number that does not count, so delete it.\n",
    "data_new = data_new.drop('订单单号', axis = 1)   #axis = 1 for columns \n",
    "#订单日期 have year,month,day attributes, so delete it.\n",
    "data_new = data_new.drop('订单日期', axis = 1)   #axis = 1 for columns "
   ]
  },
  {
   "cell_type": "code",
   "execution_count": 80,
   "metadata": {},
   "outputs": [
    {
     "data": {
      "text/plain": [
       "array(['产品名称', '顾客姓名', '区域', '目的省份', '目的城市', '快递公司', '产品子类别', '销售数量',\n",
       "       '销售金额', 'month', 'year', 'day', '销售单价'], dtype=object)"
      ]
     },
     "execution_count": 80,
     "metadata": {},
     "output_type": "execute_result"
    }
   ],
   "source": [
    "data_new.columns.values"
   ]
  },
  {
   "cell_type": "code",
   "execution_count": 81,
   "metadata": {},
   "outputs": [
    {
     "data": {
      "text/html": [
       "<div>\n",
       "<style scoped>\n",
       "    .dataframe tbody tr th:only-of-type {\n",
       "        vertical-align: middle;\n",
       "    }\n",
       "\n",
       "    .dataframe tbody tr th {\n",
       "        vertical-align: top;\n",
       "    }\n",
       "\n",
       "    .dataframe thead th {\n",
       "        text-align: right;\n",
       "    }\n",
       "</style>\n",
       "<table border=\"1\" class=\"dataframe\">\n",
       "  <thead>\n",
       "    <tr style=\"text-align: right;\">\n",
       "      <th></th>\n",
       "      <th>产品名称</th>\n",
       "      <th>顾客姓名</th>\n",
       "      <th>区域</th>\n",
       "      <th>目的省份</th>\n",
       "      <th>目的城市</th>\n",
       "      <th>快递公司</th>\n",
       "      <th>产品子类别</th>\n",
       "      <th>销售数量</th>\n",
       "      <th>销售金额</th>\n",
       "      <th>month</th>\n",
       "      <th>year</th>\n",
       "      <th>day</th>\n",
       "      <th>销售单价</th>\n",
       "    </tr>\n",
       "  </thead>\n",
       "  <tbody>\n",
       "    <tr>\n",
       "      <th>4920</th>\n",
       "      <td>甘草西瓜子90g</td>\n",
       "      <td>Jessica Myrick</td>\n",
       "      <td>华南</td>\n",
       "      <td>河南省</td>\n",
       "      <td>濮阳市</td>\n",
       "      <td>顺丰</td>\n",
       "      <td>磕壳坚果</td>\n",
       "      <td>37</td>\n",
       "      <td>164.983</td>\n",
       "      <td>1</td>\n",
       "      <td>2014</td>\n",
       "      <td>1</td>\n",
       "      <td>4.459</td>\n",
       "    </tr>\n",
       "    <tr>\n",
       "      <th>6022</th>\n",
       "      <td>黑珍珠葵瓜子110g</td>\n",
       "      <td>Matt Collister</td>\n",
       "      <td>华南</td>\n",
       "      <td>湖南省</td>\n",
       "      <td>长沙市</td>\n",
       "      <td>申通</td>\n",
       "      <td>磕壳坚果</td>\n",
       "      <td>23</td>\n",
       "      <td>110.400</td>\n",
       "      <td>1</td>\n",
       "      <td>2014</td>\n",
       "      <td>1</td>\n",
       "      <td>4.800</td>\n",
       "    </tr>\n",
       "    <tr>\n",
       "      <th>7407</th>\n",
       "      <td>瓜蒌子奶香味150g</td>\n",
       "      <td>Maris LaWare</td>\n",
       "      <td>华南</td>\n",
       "      <td>广东省</td>\n",
       "      <td>清远市</td>\n",
       "      <td>顺丰</td>\n",
       "      <td>磕壳坚果</td>\n",
       "      <td>9</td>\n",
       "      <td>152.100</td>\n",
       "      <td>1</td>\n",
       "      <td>2014</td>\n",
       "      <td>2</td>\n",
       "      <td>16.900</td>\n",
       "    </tr>\n",
       "    <tr>\n",
       "      <th>7964</th>\n",
       "      <td>精装纸皮核桃380g</td>\n",
       "      <td>Shaun Chance</td>\n",
       "      <td>华南</td>\n",
       "      <td>广东省</td>\n",
       "      <td>清远市</td>\n",
       "      <td>顺丰</td>\n",
       "      <td>磕壳坚果</td>\n",
       "      <td>6</td>\n",
       "      <td>222.642</td>\n",
       "      <td>1</td>\n",
       "      <td>2014</td>\n",
       "      <td>2</td>\n",
       "      <td>37.107</td>\n",
       "    </tr>\n",
       "    <tr>\n",
       "      <th>7325</th>\n",
       "      <td>奶香味四粒红花生180g</td>\n",
       "      <td>Alan Schoenberger</td>\n",
       "      <td>华南</td>\n",
       "      <td>广东省</td>\n",
       "      <td>梅州市</td>\n",
       "      <td>顺丰</td>\n",
       "      <td>磕壳坚果</td>\n",
       "      <td>13</td>\n",
       "      <td>96.525</td>\n",
       "      <td>1</td>\n",
       "      <td>2014</td>\n",
       "      <td>2</td>\n",
       "      <td>7.425</td>\n",
       "    </tr>\n",
       "  </tbody>\n",
       "</table>\n",
       "</div>"
      ],
      "text/plain": [
       "              产品名称               顾客姓名  区域 目的省份 目的城市 快递公司 产品子类别  销售数量     销售金额  \\\n",
       "4920      甘草西瓜子90g     Jessica Myrick  华南  河南省  濮阳市   顺丰  磕壳坚果    37  164.983   \n",
       "6022    黑珍珠葵瓜子110g     Matt Collister  华南  湖南省  长沙市   申通  磕壳坚果    23  110.400   \n",
       "7407    瓜蒌子奶香味150g       Maris LaWare  华南  广东省  清远市   顺丰  磕壳坚果     9  152.100   \n",
       "7964    精装纸皮核桃380g       Shaun Chance  华南  广东省  清远市   顺丰  磕壳坚果     6  222.642   \n",
       "7325  奶香味四粒红花生180g  Alan Schoenberger  华南  广东省  梅州市   顺丰  磕壳坚果    13   96.525   \n",
       "\n",
       "      month  year  day    销售单价  \n",
       "4920      1  2014    1   4.459  \n",
       "6022      1  2014    1   4.800  \n",
       "7407      1  2014    2  16.900  \n",
       "7964      1  2014    2  37.107  \n",
       "7325      1  2014    2   7.425  "
      ]
     },
     "execution_count": 81,
     "metadata": {},
     "output_type": "execute_result"
    }
   ],
   "source": [
    "data_new.head()"
   ]
  },
  {
   "cell_type": "code",
   "execution_count": null,
   "metadata": {},
   "outputs": [],
   "source": []
  },
  {
   "cell_type": "markdown",
   "metadata": {},
   "source": [
    "## Part six: Experiments and results--Sales Forecast"
   ]
  },
  {
   "cell_type": "markdown",
   "metadata": {},
   "source": [
    "To effectively build the regression model, the categorical predictor variables have to be converted to numeric and \n",
    "the train data must be split into 2 parts of 80% and 20% for validation."
   ]
  },
  {
   "cell_type": "markdown",
   "metadata": {},
   "source": [
    "Categorical predictors\n",
    "Categorical columns：'产品名称', '顾客姓名', '区域', '目的省份', '目的城市', '快递公司', '产品子类别'"
   ]
  },
  {
   "cell_type": "code",
   "execution_count": 94,
   "metadata": {},
   "outputs": [
    {
     "data": {
      "text/html": [
       "<div>\n",
       "<style scoped>\n",
       "    .dataframe tbody tr th:only-of-type {\n",
       "        vertical-align: middle;\n",
       "    }\n",
       "\n",
       "    .dataframe tbody tr th {\n",
       "        vertical-align: top;\n",
       "    }\n",
       "\n",
       "    .dataframe thead th {\n",
       "        text-align: right;\n",
       "    }\n",
       "</style>\n",
       "<table border=\"1\" class=\"dataframe\">\n",
       "  <thead>\n",
       "    <tr style=\"text-align: right;\">\n",
       "      <th></th>\n",
       "      <th>产品名称</th>\n",
       "      <th>顾客姓名</th>\n",
       "      <th>区域</th>\n",
       "      <th>目的省份</th>\n",
       "      <th>目的城市</th>\n",
       "      <th>快递公司</th>\n",
       "      <th>产品子类别</th>\n",
       "      <th>销售数量</th>\n",
       "      <th>销售金额</th>\n",
       "      <th>month</th>\n",
       "      <th>year</th>\n",
       "      <th>day</th>\n",
       "      <th>销售单价</th>\n",
       "    </tr>\n",
       "  </thead>\n",
       "  <tbody>\n",
       "    <tr>\n",
       "      <th>4920</th>\n",
       "      <td>35</td>\n",
       "      <td>Jessica Myrick</td>\n",
       "      <td>华南</td>\n",
       "      <td>河南省</td>\n",
       "      <td>濮阳市</td>\n",
       "      <td>顺丰</td>\n",
       "      <td>2</td>\n",
       "      <td>37</td>\n",
       "      <td>164.983</td>\n",
       "      <td>1</td>\n",
       "      <td>2014</td>\n",
       "      <td>1</td>\n",
       "      <td>4.459</td>\n",
       "    </tr>\n",
       "    <tr>\n",
       "      <th>6022</th>\n",
       "      <td>54</td>\n",
       "      <td>Matt Collister</td>\n",
       "      <td>华南</td>\n",
       "      <td>湖南省</td>\n",
       "      <td>长沙市</td>\n",
       "      <td>申通</td>\n",
       "      <td>2</td>\n",
       "      <td>23</td>\n",
       "      <td>110.400</td>\n",
       "      <td>1</td>\n",
       "      <td>2014</td>\n",
       "      <td>1</td>\n",
       "      <td>4.800</td>\n",
       "    </tr>\n",
       "    <tr>\n",
       "      <th>7407</th>\n",
       "      <td>30</td>\n",
       "      <td>Maris LaWare</td>\n",
       "      <td>华南</td>\n",
       "      <td>广东省</td>\n",
       "      <td>清远市</td>\n",
       "      <td>顺丰</td>\n",
       "      <td>2</td>\n",
       "      <td>9</td>\n",
       "      <td>152.100</td>\n",
       "      <td>1</td>\n",
       "      <td>2014</td>\n",
       "      <td>2</td>\n",
       "      <td>16.900</td>\n",
       "    </tr>\n",
       "    <tr>\n",
       "      <th>7964</th>\n",
       "      <td>40</td>\n",
       "      <td>Shaun Chance</td>\n",
       "      <td>华南</td>\n",
       "      <td>广东省</td>\n",
       "      <td>清远市</td>\n",
       "      <td>顺丰</td>\n",
       "      <td>2</td>\n",
       "      <td>6</td>\n",
       "      <td>222.642</td>\n",
       "      <td>1</td>\n",
       "      <td>2014</td>\n",
       "      <td>2</td>\n",
       "      <td>37.107</td>\n",
       "    </tr>\n",
       "    <tr>\n",
       "      <th>7325</th>\n",
       "      <td>9</td>\n",
       "      <td>Alan Schoenberger</td>\n",
       "      <td>华南</td>\n",
       "      <td>广东省</td>\n",
       "      <td>梅州市</td>\n",
       "      <td>顺丰</td>\n",
       "      <td>2</td>\n",
       "      <td>13</td>\n",
       "      <td>96.525</td>\n",
       "      <td>1</td>\n",
       "      <td>2014</td>\n",
       "      <td>2</td>\n",
       "      <td>7.425</td>\n",
       "    </tr>\n",
       "  </tbody>\n",
       "</table>\n",
       "</div>"
      ],
      "text/plain": [
       "      产品名称               顾客姓名  区域 目的省份 目的城市 快递公司  产品子类别  销售数量     销售金额  month  \\\n",
       "4920    35     Jessica Myrick  华南  河南省  濮阳市   顺丰      2    37  164.983      1   \n",
       "6022    54     Matt Collister  华南  湖南省  长沙市   申通      2    23  110.400      1   \n",
       "7407    30       Maris LaWare  华南  广东省  清远市   顺丰      2     9  152.100      1   \n",
       "7964    40       Shaun Chance  华南  广东省  清远市   顺丰      2     6  222.642      1   \n",
       "7325     9  Alan Schoenberger  华南  广东省  梅州市   顺丰      2    13   96.525      1   \n",
       "\n",
       "      year  day    销售单价  \n",
       "4920  2014    1   4.459  \n",
       "6022  2014    1   4.800  \n",
       "7407  2014    2  16.900  \n",
       "7964  2014    2  37.107  \n",
       "7325  2014    2   7.425  "
      ]
     },
     "execution_count": 94,
     "metadata": {},
     "output_type": "execute_result"
    }
   ],
   "source": [
    "# '产品名称', '顾客姓名', '区域', '目的省份', '目的城市', '快递公司', '产品子类别'\n",
    "\n",
    "# These categorical variables are nominal.\n",
    "# Using label encoding, the variables will be converted into numeric.\n",
    "\n",
    "from sklearn import preprocessing\n",
    "le1 = preprocessing.LabelEncoder()\n",
    "data_new['产品名称'] = le1.fit_transform(data_new['产品名称'])\n",
    "\n",
    "le2 = preprocessing.LabelEncoder()\n",
    "data_new['产品子类别'] = le2.fit_transform(data_new['产品子类别'])\n",
    "\n",
    "data_new.head()"
   ]
  },
  {
   "cell_type": "code",
   "execution_count": null,
   "metadata": {},
   "outputs": [],
   "source": []
  },
  {
   "cell_type": "code",
   "execution_count": null,
   "metadata": {},
   "outputs": [],
   "source": []
  },
  {
   "cell_type": "code",
   "execution_count": null,
   "metadata": {},
   "outputs": [],
   "source": [
    "#从机器学习库导入数据分割包，分割训练集和测试集\n",
    "\n",
    "from sklearn.model_selection import train_test_split\n",
    "#获取属性值\n",
    "\n",
    "X = data_new.iloc[:,:7]\n",
    "\n",
    "#获取目标值(销售金额)\n",
    "\n",
    "y = data_new.iloc[:,9]\n",
    "\n",
    "#按照2/8分割测试集合训练集\n",
    "\n",
    "X_train,X_test,y_train,y_test = train_test_split(X,y,test_size=0.2,random_state=random_state,stratify=y)\n",
    "#从机器学习库导入数据分割包，分割训练集和测试集\n",
    "\n",
    "from sklearn.model_selection import train_test_split\n",
    "#获取属性值\n",
    "\n",
    "X = data_new.iloc[:,:7]\n",
    "\n",
    "#获取目标值(销售金额)\n",
    "\n",
    "y = data_new.iloc[:,9]\n",
    "\n",
    "#按照2/8分割测试集合训练集\n",
    "\n",
    "X_train,X_test,y_train,y_test = train_test_split(X,y,test_size=0.2,random_state=random_state,stratify=y)"
   ]
  },
  {
   "cell_type": "code",
   "execution_count": null,
   "metadata": {},
   "outputs": [],
   "source": []
  },
  {
   "cell_type": "code",
   "execution_count": null,
   "metadata": {},
   "outputs": [],
   "source": []
  },
  {
   "cell_type": "code",
   "execution_count": null,
   "metadata": {},
   "outputs": [],
   "source": []
  },
  {
   "cell_type": "code",
   "execution_count": null,
   "metadata": {},
   "outputs": [],
   "source": []
  },
  {
   "cell_type": "code",
   "execution_count": null,
   "metadata": {},
   "outputs": [],
   "source": []
  },
  {
   "cell_type": "code",
   "execution_count": null,
   "metadata": {},
   "outputs": [],
   "source": []
  },
  {
   "cell_type": "code",
   "execution_count": null,
   "metadata": {},
   "outputs": [],
   "source": []
  }
 ],
 "metadata": {
  "kernelspec": {
   "display_name": "Python 3",
   "language": "python",
   "name": "python3"
  },
  "language_info": {
   "codemirror_mode": {
    "name": "ipython",
    "version": 3
   },
   "file_extension": ".py",
   "mimetype": "text/x-python",
   "name": "python",
   "nbconvert_exporter": "python",
   "pygments_lexer": "ipython3",
   "version": "3.8.5"
  }
 },
 "nbformat": 4,
 "nbformat_minor": 4
}
